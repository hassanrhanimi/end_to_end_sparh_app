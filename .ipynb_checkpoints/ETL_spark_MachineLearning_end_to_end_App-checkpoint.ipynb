{
 "cells": [
  {
   "cell_type": "markdown",
   "id": "964a7713",
   "metadata": {},
   "source": [
    "# ETL and Machine Learning\n",
    "\n",
    "In this lab I’ll create an Apache Spark Machine learning application as end to end use case from data acquisition, transformation, model training and deployment.\n",
    "\n",
    "Objectives\n",
    "After completing reading, you will see and hopefelly be able also to:\n",
    "\n",
    "- Pull-in data from the HMP dataset <a href=\"https://github.com/wchill/HMP_Dataset\">here</a>\n",
    "- Create a Spark data frame from the raw data\n",
    "- Store this to parquet (in Cloud Object Store)\n",
    "- Read it again (from Cloud Object Store)\n",
    "- Deploy this model to Train a ML-Model on that data set\n",
    "- Watson Machine Learning"
   ]
  },
  {
   "cell_type": "markdown",
   "id": "bc63f740",
   "metadata": {},
   "source": [
    "## 1. Pull-in data from the HMP dataset "
   ]
  },
  {
   "cell_type": "markdown",
   "id": "72090e6d",
   "metadata": {},
   "source": [
    "Now it’s time to explore data <a href=\"https://github.com/wchill/HMP_Dataset\">here</a>. You're invited to get familiarize a little bit with it. It's important to understand data so that you can grasp thefollowing step code easily.\n",
    "Let's pull the data in raw format from the source (github)."
   ]
  },
  {
   "cell_type": "code",
   "execution_count": 1,
   "id": "d31205b4",
   "metadata": {},
   "outputs": [],
   "source": [
    "# !rm -Rf HMP_Dataset    \n",
    "# !sudo apt install git  #to uncomment if needed\n",
    "# !git clone https://github.com/wchill/HMP_Dataset"
   ]
  },
  {
   "cell_type": "code",
   "execution_count": 3,
   "id": "22bb3284",
   "metadata": {
    "collapsed": true
   },
   "outputs": [
    {
     "name": "stdout",
     "output_type": "stream",
     "text": [
      "Collecting pyspark\n",
      "  Downloading pyspark-3.2.0.tar.gz (281.3 MB)\n",
      "\u001b[K     |████████████████████████████████| 281.3 MB 14 kB/s  eta 0:00:01    |███                             | 26.2 MB 4.6 MB/s eta 0:00:56     |███████▎                        | 64.2 MB 6.0 MB/s eta 0:00:37     |█████████████████▏              | 151.0 MB 7.3 MB/s eta 0:00:18     |█████████████████████▍          | 188.2 MB 5.7 MB/s eta 0:00:17     |██████████████████████████▋     | 233.8 MB 7.1 MB/s eta 0:00:07     |███████████████████████████████▎| 274.5 MB 6.1 MB/s eta 0:00:02\n",
      "\u001b[?25hCollecting py4j==0.10.9.2\n",
      "  Downloading py4j-0.10.9.2-py2.py3-none-any.whl (198 kB)\n",
      "\u001b[K     |████████████████████████████████| 198 kB 5.5 MB/s eta 0:00:01\n",
      "\u001b[?25hBuilding wheels for collected packages: pyspark\n",
      "  Building wheel for pyspark (setup.py) ... \u001b[?25ldone\n",
      "\u001b[?25h  Created wheel for pyspark: filename=pyspark-3.2.0-py2.py3-none-any.whl size=281805912 sha256=ff6aa6dfb729a8007bfc4d584b0bd125dccee78b79820147a37fdfc3262d0441\n",
      "  Stored in directory: /home/mbg/.cache/pip/wheels/23/f6/d3/110e53bd43baeb8d7d38049733d48e39cbecd056f01dba7ee8\n",
      "Successfully built pyspark\n",
      "Installing collected packages: py4j, pyspark\n",
      "Successfully installed py4j-0.10.9.2 pyspark-3.2.0\n",
      "Collecting findspark\n",
      "  Using cached findspark-1.4.2-py2.py3-none-any.whl (4.2 kB)\n",
      "Installing collected packages: findspark\n",
      "Successfully installed findspark-1.4.2\n"
     ]
    }
   ],
   "source": [
    "!pip install pyspark\n",
    "!pip install findspark"
   ]
  },
  {
   "cell_type": "code",
   "execution_count": 1,
   "id": "edb3223c",
   "metadata": {},
   "outputs": [],
   "source": [
    "import findspark\n",
    "findspark.init()"
   ]
  },
  {
   "cell_type": "markdown",
   "id": "a19c493d",
   "metadata": {},
   "source": [
    "## 2. Create a Spark data frame from the raw data"
   ]
  },
  {
   "cell_type": "markdown",
   "id": "d706052e",
   "metadata": {},
   "source": [
    "Lets create a local spark context (sc) and session (spark)"
   ]
  },
  {
   "cell_type": "code",
   "execution_count": 2,
   "id": "b1ba77bc",
   "metadata": {},
   "outputs": [],
   "source": [
    "from pyspark import SparkConf\n",
    "from pyspark import SparkContext\n",
    "from pyspark.sql import SparkSession\n",
    "\n",
    "conf = SparkConf().setAppName(\"SparkApp_ETL_ML\").setMaster(\"local[*]\")\n",
    "sc = SparkContext.getOrCreate(conf)\n",
    "\n",
    "spark = SparkSession.builder.getOrCreate()"
   ]
  },
  {
   "cell_type": "code",
   "execution_count": 5,
   "id": "83609891",
   "metadata": {},
   "outputs": [
    {
     "data": {
      "text/html": [
       "\n",
       "            <div>\n",
       "                <p><b>SparkSession - in-memory</b></p>\n",
       "                \n",
       "        <div>\n",
       "            <p><b>SparkContext</b></p>\n",
       "\n",
       "            <p><a href=\"http://192.168.0.24:4040\">Spark UI</a></p>\n",
       "\n",
       "            <dl>\n",
       "              <dt>Version</dt>\n",
       "                <dd><code>v3.2.0</code></dd>\n",
       "              <dt>Master</dt>\n",
       "                <dd><code>local[*]</code></dd>\n",
       "              <dt>AppName</dt>\n",
       "                <dd><code>SparkApp_ETL_ML</code></dd>\n",
       "            </dl>\n",
       "        </div>\n",
       "        \n",
       "            </div>\n",
       "        "
      ],
      "text/plain": [
       "<pyspark.sql.session.SparkSession at 0x7f1cc42641f0>"
      ]
     },
     "execution_count": 5,
     "metadata": {},
     "output_type": "execute_result"
    }
   ],
   "source": [
    "spark"
   ]
  },
  {
   "cell_type": "markdown",
   "id": "dc475162",
   "metadata": {},
   "source": [
    "let's create a schema first (convert x,y,z columns to integers)"
   ]
  },
  {
   "cell_type": "code",
   "execution_count": 3,
   "id": "139e1f42",
   "metadata": {},
   "outputs": [],
   "source": [
    "from pyspark.sql.types import StructType\n",
    "from pyspark.sql.types import StructField\n",
    "from pyspark.sql.types import IntegerType\n",
    "schema = StructType([StructField(\"x\", IntegerType(), True),\n",
    "                     StructField(\"y\", IntegerType(), True),\n",
    "                     StructField(\"z\", IntegerType(), True)])"
   ]
  },
  {
   "cell_type": "markdown",
   "id": "f71875f3",
   "metadata": {},
   "source": [
    "This step takes a while, it parses through all files and folders and creates a temporary dataframe for each file which gets appended to an overall data-frame \"df\". In addition, a column called \"class\" is added to allow for straightforward usage in Spark afterwards in a supervised machine learning scenario for example."
   ]
  },
  {
   "cell_type": "code",
   "execution_count": 4,
   "id": "3827812c",
   "metadata": {},
   "outputs": [
    {
     "name": "stdout",
     "output_type": "stream",
     "text": [
      "Liedown_bed : Accelerometer-2011-04-11-11-52-20-liedown_bed-f1.txt\n",
      "Liedown_bed : Accelerometer-2011-05-30-20-52-31-liedown_bed-f1.txt\n",
      "Liedown_bed : Accelerometer-2011-06-02-16-58-20-liedown_bed-f4.txt\n",
      "Liedown_bed : Accelerometer-2011-06-02-17-21-57-liedown_bed-m1.txt\n",
      "Liedown_bed : Accelerometer-2011-05-30-21-13-15-liedown_bed-f1.txt\n",
      "Liedown_bed : Accelerometer-2011-06-02-17-00-38-liedown_bed-f4.txt\n",
      "Liedown_bed : Accelerometer-2011-05-31-14-56-04-liedown_bed-f1.txt\n",
      "Liedown_bed : Accelerometer-2011-04-05-18-27-12-liedown_bed-f1.txt\n",
      "Liedown_bed : Accelerometer-2011-05-30-09-32-42-liedown_bed-f1.txt\n",
      "Liedown_bed : Accelerometer-2011-05-30-09-41-49-liedown_bed-f1.txt\n",
      "Liedown_bed : Accelerometer-2011-04-11-13-33-26-liedown_bed-f1.txt\n",
      "Liedown_bed : Accelerometer-2011-05-30-08-37-27-liedown_bed-f1.txt\n",
      "Liedown_bed : Accelerometer-2011-05-30-08-25-59-liedown_bed-f1.txt\n",
      "Liedown_bed : Accelerometer-2011-05-30-20-59-04-liedown_bed-f1.txt\n",
      "Liedown_bed : Accelerometer-2011-03-29-09-23-22-liedown_bed-f1.txt\n",
      "Liedown_bed : Accelerometer-2011-05-30-10-26-14-liedown_bed-m1.txt\n",
      "Liedown_bed : Accelerometer-2011-03-29-09-19-22-liedown_bed-f1.txt\n",
      "Liedown_bed : Accelerometer-2011-05-31-15-02-19-liedown_bed-f1.txt\n",
      "Liedown_bed : Accelerometer-2011-03-29-09-45-46-liedown_bed-f1.txt\n",
      "Liedown_bed : Accelerometer-2011-05-30-10-38-41-liedown_bed-m1.txt\n",
      "Liedown_bed : Accelerometer-2011-06-02-16-57-35-liedown_bed-f4.txt\n",
      "Liedown_bed : Accelerometer-2011-06-02-16-59-13-liedown_bed-f4.txt\n",
      "Liedown_bed : Accelerometer-2011-05-30-21-35-19-liedown_bed-m2.txt\n",
      "Liedown_bed : Accelerometer-2011-05-31-16-24-36-liedown_bed-f1.txt\n",
      "Liedown_bed : Accelerometer-2011-05-30-21-59-16-liedown_bed-m2.txt\n",
      "Liedown_bed : Accelerometer-2011-05-31-15-18-50-liedown_bed-f1.txt\n",
      "Liedown_bed : Accelerometer-2011-05-30-21-41-32-liedown_bed-m2.txt\n",
      "Liedown_bed : Accelerometer-2011-05-31-16-29-43-liedown_bed-f1.txt\n",
      "Getup_bed : Accelerometer-2012-06-12-15-31-56-getup_bed-m4.txt\n",
      "Getup_bed : Accelerometer-2012-06-07-22-23-46-getup_bed-f4.txt\n",
      "Getup_bed : Accelerometer-2011-06-02-17-22-34-getup_bed-m1.txt\n",
      "Getup_bed : Accelerometer-2012-06-12-18-50-50-getup_bed-m3.txt\n",
      "Getup_bed : Accelerometer-2012-06-07-22-28-50-getup_bed-f4.txt\n",
      "Getup_bed : Accelerometer-2012-06-20-20-31-40-getup_bed-f5.txt\n",
      "Getup_bed : Accelerometer-2012-06-12-15-57-21-getup_bed-f3.txt\n",
      "Getup_bed : Accelerometer-2012-06-20-20-29-11-getup_bed-f5.txt\n",
      "Getup_bed : Accelerometer-2012-06-07-22-31-18-getup_bed-f4.txt\n",
      "Getup_bed : Accelerometer-2012-06-12-18-51-33-getup_bed-m3.txt\n",
      "Getup_bed : Accelerometer-2012-06-07-22-17-45-getup_bed-f4.txt\n",
      "Getup_bed : Accelerometer-2012-05-28-17-53-29-getup_bed-m1.txt\n",
      "Getup_bed : Accelerometer-2012-06-12-15-32-38-getup_bed-m4.txt\n",
      "Getup_bed : Accelerometer-2012-05-28-17-55-04-getup_bed-m1.txt\n",
      "Getup_bed : Accelerometer-2012-06-12-15-51-25-getup_bed-f3.txt\n",
      "Getup_bed : Accelerometer-2012-06-12-15-29-15-getup_bed-m4.txt\n",
      "Getup_bed : Accelerometer-2012-06-20-21-58-13-getup_bed-m10.txt\n",
      "Getup_bed : Accelerometer-2012-06-20-21-53-40-getup_bed-m10.txt\n",
      "Getup_bed : Accelerometer-2011-05-30-09-42-46-getup_bed-f1.txt\n",
      "Getup_bed : Accelerometer-2012-06-20-21-55-30-getup_bed-m10.txt\n",
      "Getup_bed : Accelerometer-2012-06-12-18-50-08-getup_bed-m3.txt\n",
      "Getup_bed : Accelerometer-2011-05-30-21-42-30-getup_bed-m2.txt\n",
      "Getup_bed : Accelerometer-2012-06-12-15-35-29-getup_bed-m4.txt\n",
      "Getup_bed : Accelerometer-2011-05-30-10-39-27-getup_bed-m1.txt\n",
      "Getup_bed : Accelerometer-2011-05-30-20-53-40-getup_bed-f1.txt\n",
      "Getup_bed : Accelerometer-2012-06-20-20-34-30-getup_bed-f5.txt\n",
      "Getup_bed : Accelerometer-2012-06-20-20-29-49-getup_bed-f5.txt\n",
      "Getup_bed : Accelerometer-2012-05-30-21-54-12-getup_bed-m2.txt\n",
      "Getup_bed : Accelerometer-2012-05-28-17-54-04-getup_bed-m1.txt\n",
      "Getup_bed : Accelerometer-2012-06-12-18-43-26-getup_bed-f2.txt\n",
      "Getup_bed : Accelerometer-2012-06-12-15-34-01-getup_bed-m4.txt\n",
      "Getup_bed : Accelerometer-2011-05-31-16-25-09-getup_bed-f1.txt\n",
      "Getup_bed : Accelerometer-2011-05-30-10-27-01-getup_bed-m1.txt\n",
      "Getup_bed : Accelerometer-2012-06-07-22-16-05-getup_bed-f4.txt\n",
      "Getup_bed : Accelerometer-2012-06-20-21-56-36-getup_bed-m10.txt\n",
      "Getup_bed : Accelerometer-2012-06-20-22-00-55-getup_bed-m10.txt\n",
      "Getup_bed : Accelerometer-2012-06-07-22-15-16-getup_bed-f4.txt\n",
      "Getup_bed : Accelerometer-2011-05-30-21-13-57-getup_bed-f1.txt\n",
      "Getup_bed : Accelerometer-2012-06-20-20-28-27-getup_bed-f5.txt\n",
      "Getup_bed : Accelerometer-2011-05-31-16-30-18-getup_bed-f1.txt\n",
      "Getup_bed : Accelerometer-2011-06-02-16-58-46-getup_bed-f4.txt\n",
      "Getup_bed : Accelerometer-2011-05-31-15-02-55-getup_bed-f1.txt\n",
      "Getup_bed : Accelerometer-2012-06-12-18-49-31-getup_bed-m3.txt\n",
      "Getup_bed : Accelerometer-2012-06-12-18-41-40-getup_bed-f2.txt\n",
      "Getup_bed : Accelerometer-2012-06-12-18-44-53-getup_bed-f2.txt\n",
      "Getup_bed : Accelerometer-2012-06-12-18-39-37-getup_bed-f2.txt\n",
      "Getup_bed : Accelerometer-2012-06-12-15-54-33-getup_bed-f3.txt\n",
      "Getup_bed : Accelerometer-2012-06-12-15-54-03-getup_bed-f3.txt\n",
      "Getup_bed : Accelerometer-2012-06-12-15-36-02-getup_bed-m4.txt\n",
      "Getup_bed : Accelerometer-2011-04-05-18-28-21-getup_bed-f1.txt\n",
      "Getup_bed : Accelerometer-2012-06-20-20-33-22-getup_bed-f5.txt\n",
      "Getup_bed : Accelerometer-2012-06-12-15-53-20-getup_bed-f3.txt\n",
      "Getup_bed : Accelerometer-2012-05-28-17-52-54-getup_bed-m1.txt\n",
      "Getup_bed : Accelerometer-2011-05-30-08-38-15-getup_bed-f1.txt\n",
      "Getup_bed : Accelerometer-2012-06-12-18-48-47-getup_bed-m3.txt\n",
      "Getup_bed : Accelerometer-2012-06-12-18-42-44-getup_bed-f2.txt\n",
      "Getup_bed : Accelerometer-2012-06-12-18-44-04-getup_bed-f2.txt\n",
      "Getup_bed : Accelerometer-2012-06-07-22-19-25-getup_bed-f4.txt\n",
      "Getup_bed : Accelerometer-2011-06-02-17-00-08-getup_bed-f4.txt\n",
      "Getup_bed : Accelerometer-2012-05-30-21-51-41-getup_bed-m2.txt\n",
      "Getup_bed : Accelerometer-2011-03-29-09-24-50-getup_bed-f1.txt\n",
      "Getup_bed : Accelerometer-2011-06-02-16-57-57-getup_bed-f4.txt\n",
      "Getup_bed : Accelerometer-2011-04-11-11-53-01-getup_bed-f1.txt\n",
      "Getup_bed : Accelerometer-2012-06-07-22-16-42-getup_bed-f4.txt\n",
      "Getup_bed : Accelerometer-2012-06-20-21-52-24-getup_bed-m10.txt\n",
      "Getup_bed : Accelerometer-2012-05-30-21-52-18-getup_bed-m2.txt\n",
      "Getup_bed : Accelerometer-2011-05-30-09-33-26-getup_bed-f1.txt\n",
      "Getup_bed : Accelerometer-2012-06-20-20-30-45-getup_bed-f5.txt\n",
      "Getup_bed : Accelerometer-2011-05-30-08-26-56-getup_bed-f1.txt\n",
      "Getup_bed : Accelerometer-2011-05-31-14-57-24-getup_bed-f1.txt\n",
      "Getup_bed : Accelerometer-2012-06-07-22-30-31-getup_bed-f4.txt\n",
      "Getup_bed : Accelerometer-2011-04-11-13-34-05-getup_bed-f1.txt\n",
      "Getup_bed : Accelerometer-2012-06-12-15-52-46-getup_bed-f3.txt\n",
      "Getup_bed : Accelerometer-2012-06-12-15-31-01-getup_bed-m4.txt\n",
      "Getup_bed : Accelerometer-2012-06-12-18-52-37-getup_bed-m3.txt\n",
      "Getup_bed : Accelerometer-2012-05-28-17-54-37-getup_bed-m1.txt\n",
      "Getup_bed : Accelerometer-2012-06-12-15-56-41-getup_bed-f3.txt\n",
      "Getup_bed : Accelerometer-2011-05-31-15-19-41-getup_bed-f1.txt\n",
      "Getup_bed : Accelerometer-2011-03-29-09-49-03-getup_bed-f1.txt\n",
      "Getup_bed : Accelerometer-2012-06-20-20-27-19-getup_bed-f5.txt\n",
      "Getup_bed : Accelerometer-2012-06-20-21-57-33-getup_bed-m10.txt\n",
      "Getup_bed : Accelerometer-2012-05-30-21-53-38-getup_bed-m2.txt\n",
      "Getup_bed : Accelerometer-2012-06-12-15-58-01-getup_bed-f3.txt\n",
      "Getup_bed : Accelerometer-2012-06-12-15-52-04-getup_bed-f3.txt\n",
      "Getup_bed : Accelerometer-2012-06-12-18-52-06-getup_bed-m3.txt\n",
      "Getup_bed : Accelerometer-2012-06-20-21-59-57-getup_bed-m10.txt\n",
      "Getup_bed : Accelerometer-2012-06-20-20-32-40-getup_bed-f5.txt\n",
      "Getup_bed : Accelerometer-2011-05-30-21-59-46-getup_bed-m2.txt\n",
      "Getup_bed : Accelerometer-2011-05-30-21-36-01-getup_bed-m2.txt\n",
      "Getup_bed : Accelerometer-2012-06-20-21-53-06-getup_bed-m10.txt\n",
      "Getup_bed : Accelerometer-2012-06-12-15-30-07-getup_bed-m4.txt\n",
      "Getup_bed : Accelerometer-2012-06-07-22-26-32-getup_bed-f4.txt\n",
      "Getup_bed : Accelerometer-2012-06-12-15-50-48-getup_bed-f3.txt\n",
      "Getup_bed : Accelerometer-2012-06-07-22-24-33-getup_bed-f4.txt\n",
      "Getup_bed : Accelerometer-2012-06-12-15-34-40-getup_bed-m4.txt\n",
      "Getup_bed : Accelerometer-2012-06-07-22-20-59-getup_bed-f4.txt\n",
      "Getup_bed : Accelerometer-2012-06-12-15-28-34-getup_bed-m4.txt\n",
      "Getup_bed : Accelerometer-2011-03-29-09-21-17-getup_bed-f1.txt\n",
      "Getup_bed : Accelerometer-2011-05-30-20-59-57-getup_bed-f1.txt\n",
      "Getup_bed : Accelerometer-2012-05-30-21-53-05-getup_bed-m2.txt\n",
      "Getup_bed : Accelerometer-2012-06-12-18-40-26-getup_bed-f2.txt\n",
      "Drink_glass : Accelerometer-2011-05-30-21-07-10-drink_glass-f1.txt\n",
      "Drink_glass : Accelerometer-2012-05-28-17-47-23-drink_glass-m1.txt\n",
      "Drink_glass : Accelerometer-2011-05-31-16-37-39-drink_glass-f1.txt\n"
     ]
    },
    {
     "name": "stdout",
     "output_type": "stream",
     "text": [
      "Drink_glass : Accelerometer-2011-06-01-14-28-50-drink_glass-f1.txt\n",
      "Drink_glass : Accelerometer-2011-06-02-17-30-51-drink_glass-m1.txt\n",
      "Drink_glass : Accelerometer-2012-05-29-17-20-28-drink_glass-m3.txt\n",
      "Drink_glass : Accelerometer-2012-05-30-21-48-13-drink_glass-m2.txt\n",
      "Drink_glass : Accelerometer-2011-06-02-17-23-53-drink_glass-m1.txt\n",
      "Drink_glass : Accelerometer-2011-04-11-13-17-55-drink_glass-f1.txt\n",
      "Drink_glass : Accelerometer-2012-05-30-19-51-49-drink_glass-f2.txt\n",
      "Drink_glass : Accelerometer-2011-05-30-21-06-15-drink_glass-f1.txt\n",
      "Drink_glass : Accelerometer-2011-03-24-13-31-22-drink_glass-f1.txt\n",
      "Drink_glass : Accelerometer-2011-06-01-16-44-44-drink_glass-f1.txt\n",
      "Drink_glass : Accelerometer-2011-06-01-16-45-39-drink_glass-f1.txt\n",
      "Drink_glass : Accelerometer-2011-03-24-13-09-29-drink_glass-f1.txt\n",
      "Drink_glass : Accelerometer-2011-05-31-15-12-36-drink_glass-f1.txt\n",
      "Drink_glass : Accelerometer-2012-03-23-03-47-02-drink_glass-m9.txt\n",
      "Drink_glass : Accelerometer-2011-04-12-21-44-55-drink_glass-m8.txt\n",
      "Drink_glass : Accelerometer-2011-05-30-21-51-59-drink_glass-m2.txt\n",
      "Drink_glass : Accelerometer-2011-04-08-17-35-00-drink_glass-f3.txt\n",
      "Drink_glass : Accelerometer-2011-06-02-17-24-39-drink_glass-m1.txt\n",
      "Drink_glass : Accelerometer-2011-03-24-10-16-02-drink_glass-f1.txt\n",
      "Drink_glass : Accelerometer-2011-04-12-21-43-48-drink_glass-m8.txt\n",
      "Drink_glass : Accelerometer-2011-06-01-14-30-43-drink_glass-f1.txt\n",
      "Drink_glass : Accelerometer-2011-03-24-10-46-25-drink_glass-f1.txt\n",
      "Drink_glass : Accelerometer-2011-06-01-15-09-37-drink_glass-f1.txt\n",
      "Drink_glass : Accelerometer-2011-05-30-21-52-25-drink_glass-m2.txt\n",
      "Drink_glass : Accelerometer-2011-05-31-15-12-05-drink_glass-f1.txt\n",
      "Drink_glass : Accelerometer-2012-05-29-16-42-17-drink_glass-f2.txt\n",
      "Drink_glass : Accelerometer-2011-06-01-14-13-57-drink_glass-f1.txt\n",
      "Drink_glass : Accelerometer-2011-05-30-21-06-42-drink_glass-f1.txt\n",
      "Drink_glass : Accelerometer-2012-05-25-18-36-27-drink_glass-f4.txt\n",
      "Drink_glass : Accelerometer-2012-05-29-16-44-12-drink_glass-f2.txt\n",
      "Drink_glass : Accelerometer-2011-06-02-17-20-47-drink_glass-m1.txt\n",
      "Drink_glass : Accelerometer-2012-05-28-17-47-49-drink_glass-m1.txt\n",
      "Drink_glass : Accelerometer-2012-05-30-19-57-08-drink_glass-m3.txt\n",
      "Drink_glass : Accelerometer-2012-03-26-04-53-07-drink_glass-f2.txt\n",
      "Drink_glass : Accelerometer-2012-05-30-22-10-40-drink_glass-m2.txt\n",
      "Drink_glass : Accelerometer-2012-05-30-22-10-16-drink_glass-m2.txt\n",
      "Drink_glass : Accelerometer-2011-06-01-14-15-49-drink_glass-f1.txt\n",
      "Drink_glass : Accelerometer-2012-05-30-21-48-45-drink_glass-m2.txt\n",
      "Drink_glass : Accelerometer-2011-03-24-13-17-06-drink_glass-f1.txt\n",
      "Drink_glass : Accelerometer-2011-06-02-16-51-58-drink_glass-f4.txt\n",
      "Drink_glass : Accelerometer-2011-06-01-15-14-42-drink_glass-f1.txt\n",
      "Drink_glass : Accelerometer-2012-05-28-17-42-29-drink_glass-m1.txt\n",
      "Drink_glass : Accelerometer-2011-06-02-17-52-26-drink_glass-m1.txt\n",
      "Drink_glass : Accelerometer-2012-05-25-18-33-57-drink_glass-f4.txt\n",
      "Drink_glass : Accelerometer-2011-06-01-14-20-46-drink_glass-f1.txt\n",
      "Drink_glass : Accelerometer-2011-04-11-12-55-39-drink_glass-f1.txt\n",
      "Drink_glass : Accelerometer-2012-03-26-04-56-11-drink_glass-f2.txt\n",
      "Drink_glass : Accelerometer-2012-03-26-05-03-53-drink_glass-m3.txt\n",
      "Drink_glass : Accelerometer-2011-06-01-16-57-10-drink_glass-f1.txt\n",
      "Drink_glass : Accelerometer-2011-05-30-21-51-35-drink_glass-m2.txt\n",
      "Drink_glass : Accelerometer-2012-03-26-05-02-06-drink_glass-m3.txt\n",
      "Drink_glass : Accelerometer-2011-06-02-17-32-31-drink_glass-m1.txt\n",
      "Drink_glass : Accelerometer-2012-03-23-03-54-54-drink_glass-m9.txt\n",
      "Drink_glass : Accelerometer-2012-05-29-16-48-07-drink_glass-f2.txt\n",
      "Drink_glass : Accelerometer-2011-04-05-18-55-33-drink_glass-f1.txt\n",
      "Drink_glass : Accelerometer-2011-06-01-14-14-49-drink_glass-f1.txt\n",
      "Drink_glass : Accelerometer-2011-06-01-15-25-43-drink_glass-f1.txt\n",
      "Drink_glass : Accelerometer-2011-06-01-16-53-24-drink_glass-f1.txt\n",
      "Drink_glass : Accelerometer-2011-06-02-16-51-25-drink_glass-f4.txt\n",
      "Drink_glass : Accelerometer-2012-05-30-19-58-44-drink_glass-m3.txt\n",
      "Drink_glass : Accelerometer-2011-06-02-17-40-40-drink_glass-m1.txt\n",
      "Drink_glass : Accelerometer-2012-05-30-19-53-19-drink_glass-f2.txt\n",
      "Drink_glass : Accelerometer-2012-05-25-18-30-30-drink_glass-f4.txt\n",
      "Drink_glass : Accelerometer-2011-06-01-14-24-51-drink_glass-f1.txt\n",
      "Drink_glass : Accelerometer-2011-06-01-14-21-52-drink_glass-f1.txt\n",
      "Drink_glass : Accelerometer-2012-05-30-19-54-48-drink_glass-f2.txt\n",
      "Drink_glass : Accelerometer-2011-03-24-11-14-00-drink_glass-f1.txt\n",
      "Drink_glass : Accelerometer-2012-05-28-17-44-02-drink_glass-m1.txt\n",
      "Drink_glass : Accelerometer-2011-06-02-17-29-13-drink_glass-m1.txt\n",
      "Drink_glass : Accelerometer-2011-06-02-17-20-17-drink_glass-m1.txt\n",
      "Drink_glass : Accelerometer-2012-05-28-17-50-04-drink_glass-m1.txt\n",
      "Drink_glass : Accelerometer-2011-06-01-14-14-22-drink_glass-f1.txt\n",
      "Drink_glass : Accelerometer-2012-05-30-19-53-49-drink_glass-f2.txt\n",
      "Drink_glass : Accelerometer-2011-06-02-17-29-50-drink_glass-m1.txt\n",
      "Drink_glass : Accelerometer-2011-06-01-14-23-15-drink_glass-f1.txt\n",
      "Drink_glass : Accelerometer-2011-06-01-14-15-19-drink_glass-f1.txt\n",
      "Drink_glass : Accelerometer-2011-06-02-17-19-56-drink_glass-m1.txt\n",
      "Drink_glass : Accelerometer-2011-06-02-16-52-53-drink_glass-f4.txt\n",
      "Drink_glass : Accelerometer-2011-04-08-17-33-35-drink_glass-f3.txt\n",
      "Drink_glass : Accelerometer-2012-05-25-18-32-32-drink_glass-f4.txt\n",
      "Drink_glass : Accelerometer-2012-05-30-19-59-40-drink_glass-m3.txt\n",
      "Drink_glass : Accelerometer-2011-06-01-14-33-59-drink_glass-f1.txt\n",
      "Drink_glass : Accelerometer-2011-03-24-10-07-02-drink_glass-f1.txt\n",
      "Drink_glass : Accelerometer-2011-05-31-16-35-12-drink_glass-f1.txt\n",
      "Drink_glass : Accelerometer-2011-04-08-18-10-09-drink_glass-m4.txt\n",
      "Drink_glass : Accelerometer-2011-03-24-16-08-10-drink_glass-f2.txt\n",
      "Drink_glass : Accelerometer-2012-05-29-17-11-01-drink_glass-m3.txt\n",
      "Drink_glass : Accelerometer-2011-06-01-15-04-40-drink_glass-f1.txt\n",
      "Drink_glass : Accelerometer-2012-05-28-17-44-31-drink_glass-m1.txt\n",
      "Drink_glass : Accelerometer-2012-05-25-18-31-18-drink_glass-f4.txt\n",
      "Drink_glass : Accelerometer-2011-06-01-16-47-29-drink_glass-f1.txt\n",
      "Drink_glass : Accelerometer-2012-03-23-03-47-36-drink_glass-m9.txt\n",
      "Drink_glass : Accelerometer-2011-06-01-16-49-14-drink_glass-f1.txt\n",
      "Drink_glass : Accelerometer-2011-05-31-15-13-09-drink_glass-f1.txt\n",
      "Drink_glass : Accelerometer-2011-03-24-16-08-29-drink_glass-f2.txt\n",
      "Drink_glass : Accelerometer-2012-05-30-19-58-10-drink_glass-m3.txt\n",
      "Drink_glass : Accelerometer-2011-05-31-16-35-41-drink_glass-f1.txt\n",
      "Standup_chair : Accelerometer-2011-05-31-14-54-09-standup_chair-f1.txt\n",
      "Standup_chair : Accelerometer-2011-06-02-16-53-39-standup_chair-f4.txt\n",
      "Standup_chair : Accelerometer-2011-06-01-14-40-19-standup_chair-f1.txt\n",
      "Standup_chair : Accelerometer-2011-12-05-09-38-00-standup_chair-f1.txt\n",
      "Standup_chair : Accelerometer-2011-06-02-17-41-11-standup_chair-m1.txt\n",
      "Standup_chair : Accelerometer-2011-04-05-18-25-12-standup_chair-f1.txt\n",
      "Standup_chair : Accelerometer-2011-06-02-17-05-17-standup_chair-f4.txt\n",
      "Standup_chair : Accelerometer-2011-05-30-09-24-04-standup_chair-f1.txt\n",
      "Standup_chair : Accelerometer-2011-12-11-08-13-41-standup_chair-f4.txt\n",
      "Standup_chair : Accelerometer-2011-04-11-11-48-09-standup_chair-f1.txt\n",
      "Standup_chair : Accelerometer-2011-03-24-11-19-29-standup_chair-f1.txt\n",
      "Standup_chair : Accelerometer-2011-06-02-17-43-41-standup_chair-m1.txt\n",
      "Standup_chair : Accelerometer-2011-06-02-17-26-55-standup_chair-m1.txt\n",
      "Standup_chair : Accelerometer-2012-05-25-18-27-29-standup_chair-f4.txt\n",
      "Standup_chair : Accelerometer-2011-05-30-08-32-03-standup_chair-f1.txt\n",
      "Standup_chair : Accelerometer-2011-12-05-09-50-23-standup_chair-f1.txt\n",
      "Standup_chair : Accelerometer-2011-03-23-10-39-18-standup_chair-f1.txt\n",
      "Standup_chair : Accelerometer-2011-06-02-17-04-40-standup_chair-f4.txt\n",
      "Standup_chair : Accelerometer-2011-12-11-08-12-46-standup_chair-f4.txt\n",
      "Standup_chair : Accelerometer-2012-05-29-17-14-27-standup_chair-m3.txt\n",
      "Standup_chair : Accelerometer-2011-12-05-09-48-17-standup_chair-f1.txt\n",
      "Standup_chair : Accelerometer-2011-05-30-21-33-37-standup_chair-m2.txt\n",
      "Standup_chair : Accelerometer-2011-05-30-20-50-30-standup_chair-f1.txt\n",
      "Standup_chair : Accelerometer-2011-12-11-08-19-06-standup_chair-m2.txt\n"
     ]
    },
    {
     "name": "stdout",
     "output_type": "stream",
     "text": [
      "Standup_chair : Accelerometer-2012-03-23-03-48-20-standup_chair-m9.txt\n",
      "Standup_chair : Accelerometer-2011-04-08-17-32-45-standup_chair-f3.txt\n",
      "Standup_chair : Accelerometer-2011-05-31-15-13-49-standup_chair-f1.txt\n",
      "Standup_chair : Accelerometer-2011-04-08-18-09-06-standup_chair-m4.txt\n",
      "Standup_chair : Accelerometer-2012-05-25-18-33-08-standup_chair-f4.txt\n",
      "Standup_chair : Accelerometer-2011-04-08-17-34-10-standup_chair-f3.txt\n",
      "Standup_chair : Accelerometer-2012-03-26-05-04-33-standup_chair-m3.txt\n",
      "Standup_chair : Accelerometer-2011-06-01-14-50-10-standup_chair-f1.txt\n",
      "Standup_chair : Accelerometer-2011-04-11-13-24-10-standup_chair-f1.txt\n",
      "Standup_chair : Accelerometer-2011-05-30-10-31-41-standup_chair-m1.txt\n",
      "Standup_chair : Accelerometer-2011-05-30-08-24-19-standup_chair-f1.txt\n",
      "Standup_chair : Accelerometer-2011-12-11-08-23-15-standup_chair-m2.txt\n",
      "Standup_chair : Accelerometer-2011-12-05-09-45-47-standup_chair-f1.txt\n",
      "Standup_chair : Accelerometer-2011-03-24-16-09-19-standup_chair-f2.txt\n",
      "Standup_chair : Accelerometer-2011-06-02-17-31-39-standup_chair-m1.txt\n",
      "Standup_chair : Accelerometer-2011-05-31-16-23-03-standup_chair-f1.txt\n",
      "Standup_chair : Accelerometer-2012-03-26-05-02-40-standup_chair-m3.txt\n",
      "Standup_chair : Accelerometer-2011-06-02-17-44-52-standup_chair-m1.txt\n",
      "Standup_chair : Accelerometer-2011-12-11-08-09-59-standup_chair-f4.txt\n",
      "Standup_chair : Accelerometer-2011-05-31-16-27-45-standup_chair-f1.txt\n",
      "Standup_chair : Accelerometer-2012-03-26-04-54-30-standup_chair-f2.txt\n",
      "Standup_chair : Accelerometer-2011-06-01-14-46-35-standup_chair-f1.txt\n",
      "Standup_chair : Accelerometer-2011-12-05-09-55-36-standup_chair-f1.txt\n",
      "Standup_chair : Accelerometer-2011-06-02-16-43-22-standup_chair-f4.txt\n",
      "Standup_chair : Accelerometer-2011-12-11-08-22-05-standup_chair-m2.txt\n",
      "Standup_chair : Accelerometer-2011-06-02-17-26-02-standup_chair-m1.txt\n",
      "Standup_chair : Accelerometer-2011-06-02-16-44-18-standup_chair-f4.txt\n",
      "Standup_chair : Accelerometer-2011-12-11-08-14-55-standup_chair-f4.txt\n",
      "Standup_chair : Accelerometer-2011-05-30-21-52-55-standup_chair-m2.txt\n",
      "Standup_chair : Accelerometer-2011-03-29-09-04-40-standup_chair-f1.txt\n",
      "Standup_chair : Accelerometer-2012-03-23-03-44-39-standup_chair-m9.txt\n",
      "Standup_chair : Accelerometer-2011-05-30-20-50-04-standup_chair-f1.txt\n",
      "Standup_chair : Accelerometer-2011-05-30-21-38-19-standup_chair-m2.txt\n",
      "Standup_chair : Accelerometer-2011-05-30-09-25-14-standup_chair-f1.txt\n",
      "Standup_chair : Accelerometer-2012-05-28-17-40-45-standup_chair-m1.txt\n",
      "Standup_chair : Accelerometer-2011-06-01-14-51-21-standup_chair-f1.txt\n",
      "Standup_chair : Accelerometer-2012-05-29-17-12-51-standup_chair-m3.txt\n",
      "Standup_chair : Accelerometer-2011-06-01-14-41-32-standup_chair-f1.txt\n",
      "Standup_chair : Accelerometer-2012-03-26-04-58-13-standup_chair-f2.txt\n",
      "Standup_chair : Accelerometer-2011-06-02-16-46-25-standup_chair-f4.txt\n",
      "Standup_chair : Accelerometer-2011-04-12-21-45-21-standup_chair-m8.txt\n",
      "Standup_chair : Accelerometer-2011-12-11-08-19-58-standup_chair-m2.txt\n",
      "Standup_chair : Accelerometer-2011-06-02-16-55-12-standup_chair-f4.txt\n",
      "Standup_chair : Accelerometer-2011-03-24-10-38-17-standup_chair-f1.txt\n",
      "Standup_chair : Accelerometer-2011-06-02-16-45-48-standup_chair-f4.txt\n",
      "Standup_chair : Accelerometer-2011-03-23-10-47-59-standup_chair-f1.txt\n",
      "Standup_chair : Accelerometer-2011-06-02-17-25-13-standup_chair-m1.txt\n",
      "Standup_chair : Accelerometer-2012-05-29-16-43-05-standup_chair-f2.txt\n",
      "Standup_chair : Accelerometer-2011-12-11-08-11-36-standup_chair-f4.txt\n",
      "Standup_chair : Accelerometer-2012-05-28-17-50-40-standup_chair-m1.txt\n",
      "Standup_chair : Accelerometer-2011-06-02-16-54-15-standup_chair-f4.txt\n",
      "Standup_chair : Accelerometer-2011-06-02-16-44-59-standup_chair-f4.txt\n",
      "Standup_chair : Accelerometer-2011-05-31-16-38-19-standup_chair-f1.txt\n",
      "Standup_chair : Accelerometer-2011-04-12-21-42-53-standup_chair-m8.txt\n",
      "Standup_chair : Accelerometer-2011-06-01-14-38-03-standup_chair-f1.txt\n",
      "Standup_chair : Accelerometer-2012-05-28-17-39-31-standup_chair-m1.txt\n",
      "Standup_chair : Accelerometer-2011-05-30-20-56-05-standup_chair-f1.txt\n",
      "Standup_chair : Accelerometer-2011-03-23-10-42-01-standup_chair-f1.txt\n",
      "Standup_chair : Accelerometer-2011-03-23-10-45-51-standup_chair-f1.txt\n",
      "Standup_chair : Accelerometer-2012-05-25-18-35-48-standup_chair-f4.txt\n",
      "Standup_chair : Accelerometer-2011-06-01-14-43-42-standup_chair-f1.txt\n",
      "Standup_chair : Accelerometer-2012-05-25-18-28-24-standup_chair-f4.txt\n",
      "Standup_chair : Accelerometer-2012-05-28-17-45-43-standup_chair-m1.txt\n",
      "Standup_chair : Accelerometer-2011-12-05-09-52-58-standup_chair-f1.txt\n",
      "Standup_chair : Accelerometer-2011-12-05-09-40-57-standup_chair-f1.txt\n",
      "Standup_chair : Accelerometer-2011-05-30-10-23-55-standup_chair-m1.txt\n",
      "Standup_chair : Accelerometer-2011-05-30-21-07-51-standup_chair-f1.txt\n",
      "Standup_chair : Accelerometer-2011-12-11-08-24-09-standup_chair-m2.txt\n",
      "Standup_chair : Accelerometer-2011-12-11-08-15-55-standup_chair-f4.txt\n",
      "Standup_chair : Accelerometer-2011-03-29-09-10-24-standup_chair-f1.txt\n",
      "Standup_chair : Accelerometer-2011-06-01-14-45-33-standup_chair-f1.txt\n",
      "Standup_chair : Accelerometer-2011-05-31-14-59-53-standup_chair-f1.txt\n",
      "Standup_chair : Accelerometer-2012-05-29-16-47-10-standup_chair-f2.txt\n",
      "Standup_chair : Accelerometer-2011-06-02-17-42-24-standup_chair-m1.txt\n",
      "Standup_chair : Accelerometer-2011-06-01-14-39-38-standup_chair-f1.txt\n",
      "Standup_chair : Accelerometer-2011-12-11-08-20-56-standup_chair-m2.txt\n",
      "Standup_chair : Accelerometer-2011-03-24-09-49-36-standup_chair-f1.txt\n",
      "Standup_chair : Accelerometer-2011-06-01-14-52-02-standup_chair-f1.txt\n",
      "Brush_teeth : Accelerometer-2011-05-31-15-16-47-brush_teeth-f1.txt\n",
      "Brush_teeth : Accelerometer-2011-06-02-10-45-50-brush_teeth-f1.txt\n",
      "Brush_teeth : Accelerometer-2011-05-30-21-10-57-brush_teeth-f1.txt\n",
      "Brush_teeth : Accelerometer-2011-05-30-09-36-50-brush_teeth-f1.txt\n",
      "Brush_teeth : Accelerometer-2011-05-30-21-55-04-brush_teeth-m2.txt\n",
      "Brush_teeth : Accelerometer-2011-06-06-10-45-27-brush_teeth-f1.txt\n",
      "Brush_teeth : Accelerometer-2011-05-30-08-35-11-brush_teeth-f1.txt\n",
      "Brush_teeth : Accelerometer-2011-05-30-10-34-16-brush_teeth-m1.txt\n",
      "Brush_teeth : Accelerometer-2011-04-11-13-28-18-brush_teeth-f1.txt\n",
      "Brush_teeth : Accelerometer-2011-04-11-13-29-54-brush_teeth-f1.txt\n",
      "Brush_teeth : Accelerometer-2011-06-06-10-48-05-brush_teeth-f1.txt\n",
      "Brush_teeth : Accelerometer-2011-06-02-10-42-22-brush_teeth-f1.txt\n",
      "Walk : Accelerometer-2012-06-06-14-07-41-walk-m7.txt\n",
      "Walk : Accelerometer-2011-05-30-21-39-55-walk-m2.txt\n",
      "Walk : Accelerometer-2011-05-30-09-35-03-walk-f1.txt\n",
      "Walk : Accelerometer-2012-05-30-22-02-42-walk-m2.txt\n",
      "Walk : Accelerometer-2012-06-06-09-04-41-walk-m5.txt\n",
      "Walk : Accelerometer-2011-03-24-09-51-07-walk-f1.txt\n",
      "Walk : Accelerometer-2011-03-24-09-52-11-walk-f1.txt\n",
      "Walk : Accelerometer-2012-06-06-08-58-20-walk-m5.txt\n",
      "Walk : Accelerometer-2012-06-06-09-03-57-walk-m5.txt\n",
      "Walk : Accelerometer-2012-05-30-19-11-27-walk-m4.txt\n",
      "Walk : Accelerometer-2012-06-11-11-36-25-walk-m1.txt\n",
      "Walk : Accelerometer-2012-06-11-11-31-42-walk-m1.txt\n",
      "Walk : Accelerometer-2012-06-06-09-39-47-walk-m6.txt\n",
      "Walk : Accelerometer-2012-05-30-22-03-03-walk-m2.txt\n",
      "Walk : Accelerometer-2012-05-30-19-10-27-walk-m4.txt\n",
      "Walk : Accelerometer-2012-06-06-08-57-26-walk-m5.txt\n",
      "Walk : Accelerometer-2011-04-11-11-55-57-walk-f1.txt\n",
      "Walk : Accelerometer-2012-05-30-19-10-56-walk-m4.txt\n",
      "Walk : Accelerometer-2011-03-24-11-20-24-walk-f1.txt\n",
      "Walk : Accelerometer-2011-03-24-10-58-34-walk-f1.txt\n",
      "Walk : Accelerometer-2012-06-06-14-06-43-walk-m7.txt\n",
      "Walk : Accelerometer-2012-06-07-10-55-33-walk-f1.txt\n",
      "Walk : Accelerometer-2011-05-30-21-44-35-walk-m2.txt\n",
      "Walk : Accelerometer-2012-06-06-14-06-10-walk-m7.txt\n",
      "Walk : Accelerometer-2012-06-06-09-07-30-walk-m5.txt\n",
      "Walk : Accelerometer-2012-05-30-19-09-54-walk-m4.txt\n",
      "Walk : Accelerometer-2012-06-06-09-09-21-walk-m5.txt\n",
      "Walk : Accelerometer-2012-06-06-08-56-33-walk-m5.txt\n",
      "Walk : Accelerometer-2011-05-30-21-01-39-walk-f1.txt\n",
      "Walk : Accelerometer-2012-05-30-18-28-32-walk-f3.txt\n",
      "Walk : Accelerometer-2012-06-06-09-45-38-walk-m6.txt\n",
      "Walk : Accelerometer-2012-05-30-22-03-27-walk-m2.txt\n",
      "Walk : Accelerometer-2011-04-05-18-30-57-walk-f1.txt\n",
      "Walk : Accelerometer-2012-06-06-09-36-38-walk-m6.txt\n",
      "Walk : Accelerometer-2012-06-06-09-08-19-walk-m5.txt\n",
      "Walk : Accelerometer-2012-06-07-10-52-46-walk-f1.txt\n"
     ]
    },
    {
     "name": "stdout",
     "output_type": "stream",
     "text": [
      "Walk : Accelerometer-2012-06-06-14-13-56-walk-m7.txt\n",
      "Walk : Accelerometer-2011-05-30-10-29-28-walk-m1.txt\n",
      "Walk : Accelerometer-2012-06-11-11-39-29-walk-m1.txt\n",
      "Walk : Accelerometer-2012-06-07-10-50-09-walk-f1.txt\n",
      "Walk : Accelerometer-2012-06-06-09-42-05-walk-m6.txt\n",
      "Walk : Accelerometer-2012-05-29-16-51-03-walk-f2.txt\n",
      "Walk : Accelerometer-2011-03-29-16-16-01-walk-f1.txt\n",
      "Walk : Accelerometer-2012-05-29-17-16-24-walk-m3.txt\n",
      "Walk : Accelerometer-2012-05-29-16-46-02-walk-f2.txt\n",
      "Walk : Accelerometer-2012-06-06-14-15-57-walk-m7.txt\n",
      "Walk : Accelerometer-2012-06-06-09-47-07-walk-m6.txt\n",
      "Walk : Accelerometer-2012-06-06-09-40-33-walk-m6.txt\n",
      "Walk : Accelerometer-2012-06-06-14-10-33-walk-m7.txt\n",
      "Walk : Accelerometer-2012-06-06-09-36-06-walk-m6.txt\n",
      "Walk : Accelerometer-2012-05-30-22-04-20-walk-m2.txt\n",
      "Walk : Accelerometer-2012-05-30-18-29-02-walk-f3.txt\n",
      "Walk : Accelerometer-2012-06-11-11-33-42-walk-m1.txt\n",
      "Walk : Accelerometer-2011-05-31-15-01-05-walk-f1.txt\n",
      "Walk : Accelerometer-2012-06-11-11-37-01-walk-m1.txt\n",
      "Walk : Accelerometer-2012-06-11-11-23-05-walk-m1.txt\n",
      "Walk : Accelerometer-2011-05-31-16-23-32-walk-f1.txt\n",
      "Walk : Accelerometer-2012-06-06-09-02-54-walk-m5.txt\n",
      "Walk : Accelerometer-2011-05-31-14-54-41-walk-f1.txt\n",
      "Walk : Accelerometer-2012-06-06-09-34-20-walk-m6.txt\n",
      "Walk : Accelerometer-2012-06-06-14-11-30-walk-m7.txt\n",
      "Walk : Accelerometer-2012-06-11-11-32-28-walk-m1.txt\n",
      "Walk : Accelerometer-2012-06-06-14-10-02-walk-m7.txt\n",
      "Walk : Accelerometer-2012-06-11-11-33-07-walk-m1.txt\n",
      "Walk : Accelerometer-2012-06-06-09-02-06-walk-m5.txt\n",
      "Walk : Accelerometer-2012-05-29-16-51-40-walk-f2.txt\n",
      "Walk : Accelerometer-2011-05-31-16-28-55-walk-f1.txt\n",
      "Walk : Accelerometer-2012-06-07-10-50-42-walk-f1.txt\n",
      "Walk : Accelerometer-2012-06-06-14-12-00-walk-m7.txt\n",
      "Walk : Accelerometer-2012-05-29-17-18-55-walk-m3.txt\n",
      "Walk : Accelerometer-2011-05-31-15-05-44-walk-f1.txt\n",
      "Walk : Accelerometer-2011-05-31-16-32-12-walk-f1.txt\n",
      "Walk : Accelerometer-2012-06-06-09-46-31-walk-m6.txt\n",
      "Walk : Accelerometer-2012-06-11-11-37-36-walk-m1.txt\n",
      "Walk : Accelerometer-2011-05-30-20-57-19-walk-f1.txt\n",
      "Walk : Accelerometer-2012-06-06-09-41-32-walk-m6.txt\n",
      "Walk : Accelerometer-2012-06-06-08-59-00-walk-m5.txt\n",
      "Walk : Accelerometer-2012-05-29-17-13-45-walk-m3.txt\n",
      "Walk : Accelerometer-2012-06-07-10-57-45-walk-f1.txt\n",
      "Walk : Accelerometer-2012-05-29-17-15-15-walk-m3.txt\n",
      "Walk : Accelerometer-2012-06-06-14-14-27-walk-m7.txt\n",
      "Walk : Accelerometer-2012-06-06-09-35-07-walk-m6.txt\n",
      "Walk : Accelerometer-2012-06-07-10-57-12-walk-f1.txt\n",
      "Walk : Accelerometer-2012-06-11-11-30-57-walk-m1.txt\n",
      "Walk : Accelerometer-2012-06-06-14-08-12-walk-m7.txt\n",
      "Walk : Accelerometer-2011-05-30-20-51-03-walk-f1.txt\n",
      "Walk : Accelerometer-2011-05-30-21-34-15-walk-m2.txt\n",
      "Walk : Accelerometer-2012-05-30-22-03-52-walk-m2.txt\n",
      "Walk : Accelerometer-2011-03-24-11-21-13-walk-f1.txt\n",
      "Walk : Accelerometer-2012-06-06-09-10-02-walk-m5.txt\n",
      "Walk : Accelerometer-2012-06-11-11-34-18-walk-m1.txt\n",
      "Walk : Accelerometer-2012-05-30-18-30-08-walk-f3.txt\n",
      "Walk : Accelerometer-2011-05-30-08-29-07-walk-f1.txt\n",
      "Walk : Accelerometer-2012-06-06-14-15-25-walk-m7.txt\n",
      "Walk : Accelerometer-2012-05-30-18-29-35-walk-f3.txt\n",
      "Walk : Accelerometer-2012-06-11-11-38-52-walk-m1.txt\n",
      "Walk : Accelerometer-2012-05-29-16-45-30-walk-f2.txt\n",
      "Walk : Accelerometer-2012-06-07-10-52-14-walk-f1.txt\n",
      "Walk : Accelerometer-2012-06-06-09-45-03-walk-m6.txt\n",
      "Walk : Accelerometer-2012-06-11-11-38-12-walk-m1.txt\n",
      "Climb_stairs : Accelerometer-2012-06-06-14-13-05-climb_stairs-m7.txt\n",
      "Climb_stairs : Accelerometer-2011-06-06-10-57-19-climb_stairs-f1.txt\n",
      "Climb_stairs : Accelerometer-2012-06-07-10-53-53-climb_stairs-f1.txt\n",
      "Climb_stairs : Accelerometer-2012-05-30-22-08-15-climb_stairs-m2.txt\n",
      "Climb_stairs : Accelerometer-2011-05-30-21-14-55-climb_stairs-f1.txt\n",
      "Climb_stairs : Accelerometer-2012-06-06-14-04-18-climb_stairs-m7.txt\n",
      "Climb_stairs : Accelerometer-2012-06-06-08-54-08-climb_stairs-m5.txt\n",
      "Climb_stairs : Accelerometer-2011-05-31-16-26-09-climb_stairs-f1.txt\n",
      "Climb_stairs : Accelerometer-2011-05-31-15-20-50-climb_stairs-f1.txt\n",
      "Climb_stairs : Accelerometer-2012-06-07-10-49-35-climb_stairs-f1.txt\n",
      "Climb_stairs : Accelerometer-2011-05-30-09-29-58-climb_stairs-f1.txt\n",
      "Climb_stairs : Accelerometer-2012-06-06-14-09-24-climb_stairs-m7.txt\n",
      "Climb_stairs : Accelerometer-2012-06-06-14-12-35-climb_stairs-m7.txt\n",
      "Climb_stairs : Accelerometer-2012-05-30-22-07-15-climb_stairs-m2.txt\n",
      "Climb_stairs : Accelerometer-2012-06-07-10-54-29-climb_stairs-f1.txt\n",
      "Climb_stairs : Accelerometer-2012-06-06-09-00-51-climb_stairs-m5.txt\n",
      "Climb_stairs : Accelerometer-2012-06-06-09-32-36-climb_stairs-m6.txt\n",
      "Climb_stairs : Accelerometer-2011-05-30-21-46-05-climb_stairs-m2.txt\n",
      "Climb_stairs : Accelerometer-2011-06-02-10-39-21-climb_stairs-f1.txt\n",
      "Climb_stairs : Accelerometer-2011-06-02-10-40-10-climb_stairs-f1.txt\n",
      "Climb_stairs : Accelerometer-2011-05-31-15-06-32-climb_stairs-f1.txt\n",
      "Climb_stairs : Accelerometer-2012-05-29-17-17-05-climb_stairs-m3.txt\n",
      "Climb_stairs : Accelerometer-2012-05-30-18-33-57-climb_stairs-f3.txt\n",
      "Climb_stairs : Accelerometer-2012-06-06-09-32-04-climb_stairs-m6.txt\n",
      "Climb_stairs : Accelerometer-2012-05-30-19-12-19-climb_stairs-m4.txt\n",
      "Climb_stairs : Accelerometer-2012-06-07-10-48-24-climb_stairs-f1.txt\n",
      "Climb_stairs : Accelerometer-2011-05-30-21-02-43-climb_stairs-f1.txt\n",
      "Climb_stairs : Accelerometer-2011-05-30-21-36-58-climb_stairs-m2.txt\n",
      "Climb_stairs : Accelerometer-2012-06-06-14-12-49-climb_stairs-m7.txt\n",
      "Climb_stairs : Accelerometer-2011-03-24-10-25-44-climb_stairs-f1.txt\n",
      "Climb_stairs : Accelerometer-2012-06-06-14-08-44-climb_stairs-m7.txt\n",
      "Climb_stairs : Accelerometer-2012-05-30-19-14-51-climb_stairs-m4.txt\n",
      "Climb_stairs : Accelerometer-2012-06-06-14-08-57-climb_stairs-m7.txt\n",
      "Climb_stairs : Accelerometer-2012-06-07-10-49-17-climb_stairs-f1.txt\n",
      "Climb_stairs : Accelerometer-2012-06-06-09-06-03-climb_stairs-m5.txt\n",
      "Climb_stairs : Accelerometer-2011-05-30-08-39-09-climb_stairs-f1.txt\n",
      "Climb_stairs : Accelerometer-2011-06-02-10-37-15-climb_stairs-f1.txt\n",
      "Climb_stairs : Accelerometer-2012-06-06-14-05-18-climb_stairs-m7.txt\n",
      "Climb_stairs : Accelerometer-2011-06-06-10-59-58-climb_stairs-f1.txt\n",
      "Climb_stairs : Accelerometer-2012-06-06-09-01-08-climb_stairs-m5.txt\n",
      "Climb_stairs : Accelerometer-2011-06-06-10-59-08-climb_stairs-f1.txt\n",
      "Climb_stairs : Accelerometer-2012-06-06-09-00-24-climb_stairs-m5.txt\n",
      "Climb_stairs : Accelerometer-2012-05-30-18-31-08-climb_stairs-f3.txt\n",
      "Climb_stairs : Accelerometer-2011-04-05-18-21-22-climb_stairs-f1.txt\n",
      "Climb_stairs : Accelerometer-2011-04-05-18-32-29-climb_stairs-f1.txt\n",
      "Climb_stairs : Accelerometer-2011-05-30-08-30-37-climb_stairs-f1.txt\n",
      "Climb_stairs : Accelerometer-2012-06-06-09-43-14-climb_stairs-m6.txt\n",
      "Climb_stairs : Accelerometer-2012-06-06-09-43-47-climb_stairs-m6.txt\n",
      "Climb_stairs : Accelerometer-2011-05-30-20-54-39-climb_stairs-f1.txt\n",
      "Climb_stairs : Accelerometer-2011-06-02-10-37-44-climb_stairs-f1.txt\n",
      "Climb_stairs : Accelerometer-2011-03-29-09-55-46-climb_stairs-f1.txt\n",
      "Climb_stairs : Accelerometer-2011-05-31-16-32-44-climb_stairs-f1.txt\n",
      "Climb_stairs : Accelerometer-2012-06-07-10-53-34-climb_stairs-f1.txt\n",
      "Climb_stairs : Accelerometer-2012-06-06-09-37-58-climb_stairs-m6.txt\n",
      "Climb_stairs : Accelerometer-2012-06-06-09-06-49-climb_stairs-m5.txt\n",
      "Climb_stairs : Accelerometer-2012-05-30-19-12-57-climb_stairs-m4.txt\n",
      "Climb_stairs : Accelerometer-2011-06-06-11-01-27-climb_stairs-f1.txt\n",
      "Climb_stairs : Accelerometer-2011-06-06-10-57-43-climb_stairs-f1.txt\n",
      "Climb_stairs : Accelerometer-2012-06-06-08-53-29-climb_stairs-m5.txt\n",
      "Climb_stairs : Accelerometer-2012-05-30-18-31-52-climb_stairs-f3.txt\n",
      "Climb_stairs : Accelerometer-2011-05-30-10-41-10-climb_stairs-m1.txt\n",
      "Climb_stairs : Accelerometer-2012-06-06-09-44-02-climb_stairs-m6.txt\n",
      "Climb_stairs : Accelerometer-2012-05-30-22-06-17-climb_stairs-m2.txt\n",
      "Climb_stairs : Accelerometer-2011-05-31-14-58-41-climb_stairs-f1.txt\n",
      "Climb_stairs : Accelerometer-2011-05-30-22-00-32-climb_stairs-m2.txt\n",
      "Climb_stairs : Accelerometer-2012-06-07-10-48-08-climb_stairs-f1.txt\n",
      "Climb_stairs : Accelerometer-2012-05-28-17-56-40-climb_stairs-m1.txt\n",
      "Climb_stairs : Accelerometer-2011-04-11-11-58-30-climb_stairs-f1.txt\n",
      "Climb_stairs : Accelerometer-2012-06-06-09-37-23-climb_stairs-m6.txt\n",
      "Climb_stairs : Accelerometer-2011-04-11-11-44-35-climb_stairs-f1.txt\n",
      "Climb_stairs : Accelerometer-2012-06-06-14-13-20-climb_stairs-m7.txt\n"
     ]
    },
    {
     "name": "stdout",
     "output_type": "stream",
     "text": [
      "Climb_stairs : Accelerometer-2012-06-06-09-38-17-climb_stairs-m6.txt\n",
      "Climb_stairs : Accelerometer-2012-06-06-14-09-12-climb_stairs-m7.txt\n",
      "Climb_stairs : Accelerometer-2012-05-30-19-13-50-climb_stairs-m4.txt\n",
      "Climb_stairs : Accelerometer-2012-06-06-09-38-43-climb_stairs-m6.txt\n",
      "Climb_stairs : Accelerometer-2012-06-06-14-05-05-climb_stairs-m7.txt\n",
      "Climb_stairs : Accelerometer-2012-06-06-08-54-29-climb_stairs-m5.txt\n",
      "Climb_stairs : Accelerometer-2012-05-30-22-07-44-climb_stairs-m2.txt\n",
      "Climb_stairs : Accelerometer-2012-06-06-09-33-15-climb_stairs-m6.txt\n",
      "Climb_stairs : Accelerometer-2012-05-29-17-17-51-climb_stairs-m3.txt\n",
      "Climb_stairs : Accelerometer-2012-05-29-16-53-12-climb_stairs-f2.txt\n",
      "Climb_stairs : Accelerometer-2012-06-06-09-42-55-climb_stairs-m6.txt\n",
      "Climb_stairs : Accelerometer-2012-06-06-08-59-53-climb_stairs-m5.txt\n",
      "Climb_stairs : Accelerometer-2011-05-30-09-43-37-climb_stairs-f1.txt\n",
      "Climb_stairs : Accelerometer-2012-05-28-17-56-03-climb_stairs-m1.txt\n",
      "Climb_stairs : Accelerometer-2011-03-24-10-24-39-climb_stairs-f1.txt\n",
      "Climb_stairs : Accelerometer-2011-06-06-11-00-50-climb_stairs-f1.txt\n",
      "Climb_stairs : Accelerometer-2012-06-06-14-04-51-climb_stairs-m7.txt\n",
      "Climb_stairs : Accelerometer-2012-06-07-10-54-12-climb_stairs-f1.txt\n",
      "Climb_stairs : Accelerometer-2012-05-29-16-54-38-climb_stairs-f2.txt\n",
      "Climb_stairs : Accelerometer-2012-05-30-22-06-47-climb_stairs-m2.txt\n",
      "Climb_stairs : Accelerometer-2012-06-06-09-32-58-climb_stairs-m6.txt\n",
      "Climb_stairs : Accelerometer-2011-05-30-09-38-52-climb_stairs-f1.txt\n",
      "Climb_stairs : Accelerometer-2012-06-06-08-53-47-climb_stairs-m5.txt\n",
      "Climb_stairs : Accelerometer-2011-04-11-11-57-50-climb_stairs-f1.txt\n",
      "Climb_stairs : Accelerometer-2011-05-30-08-21-38-climb_stairs-f1.txt\n",
      "Climb_stairs : Accelerometer-2012-06-06-09-06-28-climb_stairs-m5.txt\n",
      "Climb_stairs : Accelerometer-2012-06-06-09-05-28-climb_stairs-m5.txt\n",
      "Climb_stairs : Accelerometer-2011-05-30-10-20-47-climb_stairs-m1.txt\n",
      "Climb_stairs : Accelerometer-2011-06-06-11-02-24-climb_stairs-f1.txt\n",
      "Climb_stairs : Accelerometer-2011-05-30-10-32-53-climb_stairs-m1.txt\n",
      "Climb_stairs : Accelerometer-2012-05-30-18-32-56-climb_stairs-f3.txt\n",
      "Eat_meat : Accelerometer-2011-03-24-13-12-52-eat_meat-f1.txt\n",
      "Eat_meat : Accelerometer-2011-03-24-13-06-15-eat_meat-f1.txt\n",
      "Eat_meat : Accelerometer-2011-03-24-13-17-42-eat_meat-f1.txt\n",
      "Eat_meat : Accelerometer-2011-03-24-13-10-14-eat_meat-f1.txt\n",
      "Eat_meat : Accelerometer-2011-03-24-13-21-39-eat_meat-f1.txt\n",
      "Comb_hair : Accelerometer-2011-03-29-08-57-24-comb_hair-f1.txt\n",
      "Comb_hair : Accelerometer-2011-06-02-16-20-04-comb_hair-f1.txt\n",
      "Comb_hair : Accelerometer-2011-05-31-15-14-55-comb_hair-f1.txt\n",
      "Comb_hair : Accelerometer-2011-06-06-10-10-30-comb_hair-f1.txt\n",
      "Comb_hair : Accelerometer-2011-06-02-17-32-57-comb_hair-m1.txt\n",
      "Comb_hair : Accelerometer-2011-06-02-10-44-17-comb_hair-f1.txt\n",
      "Comb_hair : Accelerometer-2011-06-02-10-41-33-comb_hair-f1.txt\n",
      "Comb_hair : Accelerometer-2011-03-24-10-26-33-comb_hair-f1.txt\n",
      "Comb_hair : Accelerometer-2011-06-02-16-14-07-comb_hair-f1.txt\n",
      "Comb_hair : Accelerometer-2011-04-11-13-31-24-comb_hair-f1.txt\n",
      "Comb_hair : Accelerometer-2011-05-30-10-36-26-comb_hair-m1.txt\n",
      "Comb_hair : Accelerometer-2011-06-02-17-03-33-comb_hair-f4.txt\n",
      "Comb_hair : Accelerometer-2011-03-24-16-10-36-comb_hair-f2.txt\n",
      "Comb_hair : Accelerometer-2011-06-06-10-08-56-comb_hair-f1.txt\n",
      "Comb_hair : Accelerometer-2011-03-24-09-44-34-comb_hair-f1.txt\n",
      "Comb_hair : Accelerometer-2011-06-06-10-05-40-comb_hair-f1.txt\n",
      "Comb_hair : Accelerometer-2011-05-30-21-08-40-comb_hair-f1.txt\n",
      "Comb_hair : Accelerometer-2011-06-02-17-39-54-comb_hair-m1.txt\n",
      "Comb_hair : Accelerometer-2011-05-30-21-57-03-comb_hair-m2.txt\n",
      "Comb_hair : Accelerometer-2011-06-06-10-03-47-comb_hair-f1.txt\n",
      "Comb_hair : Accelerometer-2011-06-02-17-02-50-comb_hair-f4.txt\n",
      "Comb_hair : Accelerometer-2011-06-02-16-12-44-comb_hair-f1.txt\n",
      "Comb_hair : Accelerometer-2011-06-02-17-18-58-comb_hair-m1.txt\n",
      "Comb_hair : Accelerometer-2011-06-02-17-39-02-comb_hair-m1.txt\n",
      "Comb_hair : Accelerometer-2011-03-24-10-57-40-comb_hair-f1.txt\n",
      "Comb_hair : Accelerometer-2011-05-30-09-39-49-comb_hair-f1.txt\n",
      "Comb_hair : Accelerometer-2011-06-02-16-48-41-comb_hair-f4.txt\n",
      "Comb_hair : Accelerometer-2011-06-02-16-18-54-comb_hair-f1.txt\n",
      "Comb_hair : Accelerometer-2011-05-30-08-32-58-comb_hair-f1.txt\n",
      "Comb_hair : Accelerometer-2011-06-02-16-49-27-comb_hair-f4.txt\n",
      "Comb_hair : Accelerometer-2011-06-02-16-56-03-comb_hair-f4.txt\n",
      "Descend_stairs : Accelerometer-2011-03-24-10-24-02-descend_stairs-f1.txt\n",
      "Descend_stairs : Accelerometer-2011-05-30-20-48-10-descend_stairs-f1.txt\n",
      "Descend_stairs : Accelerometer-2011-06-06-11-00-26-descend_stairs-f1.txt\n",
      "Descend_stairs : Accelerometer-2011-03-29-09-15-58-descend_stairs-f1.txt\n",
      "Descend_stairs : Accelerometer-2011-06-06-11-01-54-descend_stairs-f1.txt\n",
      "Descend_stairs : Accelerometer-2011-03-29-16-16-34-descend_stairs-f1.txt\n",
      "Descend_stairs : Accelerometer-2011-04-11-13-32-24-descend_stairs-f1.txt\n",
      "Descend_stairs : Accelerometer-2011-04-11-11-51-27-descend_stairs-f1.txt\n",
      "Descend_stairs : Accelerometer-2011-03-24-10-25-11-descend_stairs-f1.txt\n",
      "Descend_stairs : Accelerometer-2011-06-06-10-59-38-descend_stairs-f1.txt\n",
      "Descend_stairs : Accelerometer-2011-06-06-10-56-23-descend_stairs-f1.txt\n",
      "Descend_stairs : Accelerometer-2011-06-06-10-56-55-descend_stairs-f1.txt\n",
      "Descend_stairs : Accelerometer-2011-05-31-15-15-48-descend_stairs-f1.txt\n",
      "Descend_stairs : Accelerometer-2011-04-05-18-26-06-descend_stairs-f1.txt\n",
      "Descend_stairs : Accelerometer-2011-03-29-16-17-18-descend_stairs-f1.txt\n",
      "Descend_stairs : Accelerometer-2011-05-30-08-34-06-descend_stairs-f1.txt\n",
      "Descend_stairs : Accelerometer-2011-03-29-16-18-14-descend_stairs-f1.txt\n",
      "Descend_stairs : Accelerometer-2011-06-02-10-38-52-descend_stairs-f1.txt\n",
      "Descend_stairs : Accelerometer-2011-06-06-10-58-14-descend_stairs-f1.txt\n",
      "Descend_stairs : Accelerometer-2011-05-30-08-24-58-descend_stairs-f1.txt\n",
      "Descend_stairs : Accelerometer-2011-05-30-08-20-55-descend_stairs-f1.txt\n",
      "Descend_stairs : Accelerometer-2011-05-30-20-56-43-descend_stairs-f1.txt\n",
      "Descend_stairs : Accelerometer-2011-06-02-10-38-15-descend_stairs-f1.txt\n",
      "Descend_stairs : Accelerometer-2011-05-30-10-37-30-descend_stairs-m1.txt\n",
      "Descend_stairs : Accelerometer-2011-05-30-09-31-43-descend_stairs-f1.txt\n",
      "Descend_stairs : Accelerometer-2011-05-30-09-40-50-descend_stairs-f1.txt\n",
      "Descend_stairs : Accelerometer-2011-06-02-10-36-42-descend_stairs-f1.txt\n",
      "Descend_stairs : Accelerometer-2011-05-30-21-09-46-descend_stairs-f1.txt\n",
      "Descend_stairs : Accelerometer-2011-05-30-10-24-51-descend_stairs-m1.txt\n",
      "Descend_stairs : Accelerometer-2011-05-30-21-32-18-descend_stairs-m2.txt\n",
      "Descend_stairs : Accelerometer-2011-06-02-10-36-04-descend_stairs-f1.txt\n",
      "Descend_stairs : Accelerometer-2011-03-24-11-20-43-descend_stairs-f1.txt\n",
      "Descend_stairs : Accelerometer-2011-06-06-10-58-40-descend_stairs-f1.txt\n",
      "Descend_stairs : Accelerometer-2011-05-30-10-19-56-descend_stairs-m1.txt\n",
      "Descend_stairs : Accelerometer-2011-05-30-21-53-35-descend_stairs-m2.txt\n",
      "Descend_stairs : Accelerometer-2011-05-30-09-29-15-descend_stairs-f1.txt\n",
      "Descend_stairs : Accelerometer-2011-05-31-15-00-30-descend_stairs-f1.txt\n",
      "Descend_stairs : Accelerometer-2011-05-31-16-28-22-descend_stairs-f1.txt\n",
      "Descend_stairs : Accelerometer-2011-05-31-14-52-31-descend_stairs-f1.txt\n",
      "Descend_stairs : Accelerometer-2011-05-30-21-39-11-descend_stairs-m2.txt\n",
      "Descend_stairs : Accelerometer-2011-03-29-16-17-50-descend_stairs-f1.txt\n",
      "Descend_stairs : Accelerometer-2011-05-31-16-21-49-descend_stairs-f1.txt\n",
      "Pour_water : Accelerometer-2011-06-06-09-51-53-pour_water-f1.txt\n",
      "Pour_water : Accelerometer-2011-06-06-09-47-48-pour_water-f1.txt\n",
      "Pour_water : Accelerometer-2011-06-06-09-46-20-pour_water-f1.txt\n",
      "Pour_water : Accelerometer-2012-06-07-21-31-24-pour_water-f4.txt\n",
      "Pour_water : Accelerometer-2011-05-30-21-51-05-pour_water-m2.txt\n",
      "Pour_water : Accelerometer-2012-06-07-21-32-12-pour_water-f4.txt\n",
      "Pour_water : Accelerometer-2012-05-30-19-56-40-pour_water-m3.txt\n",
      "Pour_water : Accelerometer-2012-06-07-21-34-22-pour_water-f4.txt\n",
      "Pour_water : Accelerometer-2012-05-30-19-59-17-pour_water-m3.txt\n",
      "Pour_water : Accelerometer-2012-06-09-22-56-53-pour_water-m11.txt\n",
      "Pour_water : Accelerometer-2011-06-06-09-40-34-pour_water-f1.txt\n",
      "Pour_water : Accelerometer-2011-06-02-17-04-09-pour_water-f4.txt\n"
     ]
    },
    {
     "name": "stdout",
     "output_type": "stream",
     "text": [
      "Pour_water : Accelerometer-2011-06-02-17-45-45-pour_water-m1.txt\n",
      "Pour_water : Accelerometer-2012-06-09-22-55-42-pour_water-m11.txt\n",
      "Pour_water : Accelerometer-2012-05-25-18-31-58-pour_water-f4.txt\n",
      "Pour_water : Accelerometer-2012-06-09-22-54-40-pour_water-m11.txt\n",
      "Pour_water : Accelerometer-2011-05-30-21-05-39-pour_water-f1.txt\n",
      "Pour_water : Accelerometer-2011-06-01-16-46-50-pour_water-f1.txt\n",
      "Pour_water : Accelerometer-2011-03-24-13-30-01-pour_water-f1.txt\n",
      "Pour_water : Accelerometer-2011-06-01-14-13-29-pour_water-f1.txt\n",
      "Pour_water : Accelerometer-2011-06-02-17-28-27-pour_water-m1.txt\n",
      "Pour_water : Accelerometer-2012-06-07-21-34-47-pour_water-f4.txt\n",
      "Pour_water : Accelerometer-2012-05-30-19-57-40-pour_water-m3.txt\n",
      "Pour_water : Accelerometer-2011-06-06-09-45-45-pour_water-f1.txt\n",
      "Pour_water : Accelerometer-2012-03-26-04-55-40-pour_water-f2.txt\n",
      "Pour_water : Accelerometer-2012-06-07-21-35-50-pour_water-f4.txt\n",
      "Pour_water : Accelerometer-2012-06-07-21-31-05-pour_water-f4.txt\n",
      "Pour_water : Accelerometer-2011-06-01-14-18-36-pour_water-f1.txt\n",
      "Pour_water : Accelerometer-2012-06-07-21-28-23-pour_water-f4.txt\n",
      "Pour_water : Accelerometer-2011-06-01-14-27-40-pour_water-f1.txt\n",
      "Pour_water : Accelerometer-2011-06-06-09-50-17-pour_water-f1.txt\n",
      "Pour_water : Accelerometer-2012-05-25-18-34-46-pour_water-f4.txt\n",
      "Pour_water : Accelerometer-2012-05-25-18-37-06-pour_water-f4.txt\n",
      "Pour_water : Accelerometer-2011-06-01-14-16-35-pour_water-f1.txt\n",
      "Pour_water : Accelerometer-2012-05-30-19-08-20-pour_water-m4.txt\n",
      "Pour_water : Accelerometer-2012-05-29-17-10-30-pour_water-m3.txt\n",
      "Pour_water : Accelerometer-2012-05-30-19-52-29-pour_water-f2.txt\n",
      "Pour_water : Accelerometer-2012-05-30-19-07-43-pour_water-m4.txt\n",
      "Pour_water : Accelerometer-2011-06-02-17-06-44-pour_water-f4.txt\n",
      "Pour_water : Accelerometer-2012-05-28-17-43-20-pour_water-m1.txt\n",
      "Pour_water : Accelerometer-2012-06-07-21-31-48-pour_water-f4.txt\n",
      "Pour_water : Accelerometer-2011-06-01-14-12-53-pour_water-f1.txt\n",
      "Pour_water : Accelerometer-2011-05-31-16-34-32-pour_water-f1.txt\n",
      "Pour_water : Accelerometer-2011-06-02-16-52-30-pour_water-f4.txt\n",
      "Pour_water : Accelerometer-2012-05-25-18-29-48-pour_water-f4.txt\n",
      "Pour_water : Accelerometer-2012-05-30-19-54-24-pour_water-f2.txt\n",
      "Pour_water : Accelerometer-2012-05-30-18-26-02-pour_water-f3.txt\n",
      "Pour_water : Accelerometer-2011-06-02-17-33-30-pour_water-m1.txt\n",
      "Pour_water : Accelerometer-2012-03-26-05-01-39-pour_water-m3.txt\n",
      "Pour_water : Accelerometer-2012-05-29-17-12-07-pour_water-m3.txt\n",
      "Pour_water : Accelerometer-2011-05-31-15-11-25-pour_water-f1.txt\n",
      "Pour_water : Accelerometer-2012-06-07-21-28-48-pour_water-f4.txt\n",
      "Pour_water : Accelerometer-2012-05-30-18-27-41-pour_water-f3.txt\n",
      "Pour_water : Accelerometer-2012-06-07-21-29-09-pour_water-f4.txt\n",
      "Pour_water : Accelerometer-2012-06-09-22-56-17-pour_water-m11.txt\n",
      "Pour_water : Accelerometer-2012-05-29-16-43-41-pour_water-f2.txt\n",
      "Pour_water : Accelerometer-2011-06-06-09-44-12-pour_water-f1.txt\n",
      "Pour_water : Accelerometer-2011-06-01-14-25-16-pour_water-f1.txt\n",
      "Pour_water : Accelerometer-2012-06-07-21-35-28-pour_water-f4.txt\n",
      "Pour_water : Accelerometer-2012-06-07-21-33-47-pour_water-f4.txt\n",
      "Pour_water : Accelerometer-2011-06-06-09-49-51-pour_water-f1.txt\n",
      "Pour_water : Accelerometer-2012-05-29-16-49-00-pour_water-f2.txt\n",
      "Pour_water : Accelerometer-2012-03-23-03-54-26-pour_water-m9.txt\n",
      "Pour_water : Accelerometer-2012-05-30-19-08-50-pour_water-m4.txt\n",
      "Pour_water : Accelerometer-2011-06-06-09-42-11-pour_water-f1.txt\n",
      "Pour_water : Accelerometer-2012-06-07-21-30-16-pour_water-f4.txt\n",
      "Pour_water : Accelerometer-2011-03-24-10-04-32-pour_water-f1.txt\n",
      "Pour_water : Accelerometer-2012-06-07-21-27-46-pour_water-f4.txt\n",
      "Pour_water : Accelerometer-2011-06-02-17-23-16-pour_water-m1.txt\n",
      "Pour_water : Accelerometer-2011-06-01-14-17-02-pour_water-f1.txt\n",
      "Pour_water : Accelerometer-2011-06-06-09-48-59-pour_water-f1.txt\n",
      "Pour_water : Accelerometer-2011-06-06-09-55-25-pour_water-f1.txt\n",
      "Pour_water : Accelerometer-2012-03-23-03-55-46-pour_water-m9.txt\n",
      "Pour_water : Accelerometer-2012-05-28-17-46-43-pour_water-m1.txt\n",
      "Pour_water : Accelerometer-2011-06-06-09-56-28-pour_water-f1.txt\n",
      "Pour_water : Accelerometer-2012-06-09-22-57-12-pour_water-m11.txt\n",
      "Pour_water : Accelerometer-2012-05-28-17-49-34-pour_water-m1.txt\n",
      "Pour_water : Accelerometer-2012-06-07-21-32-37-pour_water-f4.txt\n",
      "Pour_water : Accelerometer-2012-05-30-18-27-15-pour_water-f3.txt\n",
      "Pour_water : Accelerometer-2012-06-09-22-58-08-pour_water-m11.txt\n",
      "Pour_water : Accelerometer-2012-03-26-05-03-27-pour_water-m3.txt\n",
      "Pour_water : Accelerometer-2012-06-09-22-55-08-pour_water-m11.txt\n",
      "Pour_water : Accelerometer-2012-06-09-22-58-28-pour_water-m11.txt\n",
      "Pour_water : Accelerometer-2011-06-02-16-50-40-pour_water-f4.txt\n",
      "Pour_water : Accelerometer-2012-06-07-21-33-21-pour_water-f4.txt\n",
      "Pour_water : Accelerometer-2011-04-05-18-54-14-pour_water-f1.txt\n",
      "Pour_water : Accelerometer-2012-05-30-19-50-42-pour_water-f2.txt\n",
      "Pour_water : Accelerometer-2011-06-01-14-32-38-pour_water-f1.txt\n",
      "Pour_water : Accelerometer-2012-06-07-21-29-48-pour_water-f4.txt\n",
      "Pour_water : Accelerometer-2011-06-06-09-39-30-pour_water-f1.txt\n",
      "Pour_water : Accelerometer-2012-03-23-03-46-21-pour_water-m9.txt\n",
      "Pour_water : Accelerometer-2012-05-29-17-19-55-pour_water-m3.txt\n",
      "Pour_water : Accelerometer-2011-04-11-12-55-26-pour_water-f1.txt\n",
      "Pour_water : Accelerometer-2012-06-07-21-30-37-pour_water-f4.txt\n",
      "Pour_water : Accelerometer-2011-06-02-17-06-15-pour_water-f4.txt\n",
      "Pour_water : Accelerometer-2011-03-24-10-51-12-pour_water-f1.txt\n",
      "Pour_water : Accelerometer-2012-05-30-19-07-14-pour_water-m4.txt\n",
      "Pour_water : Accelerometer-2012-05-30-18-26-49-pour_water-f3.txt\n",
      "Pour_water : Accelerometer-2012-03-26-04-53-59-pour_water-f2.txt\n",
      "Pour_water : Accelerometer-2012-05-28-17-41-55-pour_water-m1.txt\n",
      "Sitdown_chair : Accelerometer-2011-06-02-17-44-20-sitdown_chair-m1.txt\n",
      "Sitdown_chair : Accelerometer-2011-05-30-10-31-12-sitdown_chair-m1.txt\n",
      "Sitdown_chair : Accelerometer-2011-06-02-16-55-35-sitdown_chair-f4.txt\n",
      "Sitdown_chair : Accelerometer-2011-04-05-18-22-14-sitdown_chair-f1.txt\n",
      "Sitdown_chair : Accelerometer-2011-12-11-08-15-21-sitdown_chair-f4.txt\n",
      "Sitdown_chair : Accelerometer-2012-03-26-04-58-33-sitdown_chair-f2.txt\n",
      "Sitdown_chair : Accelerometer-2011-05-31-16-27-00-sitdown_chair-f1.txt\n",
      "Sitdown_chair : Accelerometer-2011-06-01-14-38-38-sitdown_chair-f1.txt\n",
      "Sitdown_chair : Accelerometer-2011-05-30-09-24-48-sitdown_chair-f1.txt\n",
      "Sitdown_chair : Accelerometer-2011-03-29-09-06-48-sitdown_chair-f1.txt\n",
      "Sitdown_chair : Accelerometer-2011-06-01-14-46-43-sitdown_chair-f1.txt\n",
      "Sitdown_chair : Accelerometer-2011-06-02-17-27-18-sitdown_chair-m1.txt\n",
      "Sitdown_chair : Accelerometer-2011-03-24-10-27-33-sitdown_chair-f1.txt\n",
      "Sitdown_chair : Accelerometer-2012-05-25-18-28-46-sitdown_chair-f4.txt\n",
      "Sitdown_chair : Accelerometer-2012-05-25-18-36-06-sitdown_chair-f4.txt\n",
      "Sitdown_chair : Accelerometer-2011-06-06-09-35-11-sitdown_chair-f1.txt\n",
      "Sitdown_chair : Accelerometer-2011-06-01-14-40-31-sitdown_chair-f1.txt\n",
      "Sitdown_chair : Accelerometer-2011-04-05-18-47-38-sitdown_chair-f1.txt\n",
      "Sitdown_chair : Accelerometer-2011-06-01-14-39-48-sitdown_chair-f1.txt\n",
      "Sitdown_chair : Accelerometer-2011-06-02-16-17-10-sitdown_chair-f1.txt\n",
      "Sitdown_chair : Accelerometer-2011-05-30-08-31-30-sitdown_chair-f1.txt\n",
      "Sitdown_chair : Accelerometer-2011-06-02-16-53-58-sitdown_chair-f4.txt\n",
      "Sitdown_chair : Accelerometer-2011-05-30-21-04-13-sitdown_chair-f1.txt\n",
      "Sitdown_chair : Accelerometer-2011-05-30-21-48-01-sitdown_chair-m2.txt\n",
      "Sitdown_chair : Accelerometer-2011-06-02-16-15-55-sitdown_chair-f1.txt\n",
      "Sitdown_chair : Accelerometer-2011-06-02-16-44-37-sitdown_chair-f4.txt\n",
      "Sitdown_chair : Accelerometer-2011-06-02-16-46-43-sitdown_chair-f4.txt\n",
      "Sitdown_chair : Accelerometer-2012-03-23-03-48-40-sitdown_chair-m9.txt\n",
      "Sitdown_chair : Accelerometer-2011-06-02-17-04-59-sitdown_chair-f4.txt\n",
      "Sitdown_chair : Accelerometer-2011-06-06-09-36-06-sitdown_chair-f1.txt\n",
      "Sitdown_chair : Accelerometer-2011-12-05-09-39-34-sitdown_chair-f1.txt\n",
      "Sitdown_chair : Accelerometer-2011-06-02-17-41-43-sitdown_chair-m1.txt\n",
      "Sitdown_chair : Accelerometer-2011-12-11-08-20-24-sitdown_chair-m2.txt\n",
      "Sitdown_chair : Accelerometer-2011-12-11-08-14-09-sitdown_chair-f4.txt\n",
      "Sitdown_chair : Accelerometer-2011-12-11-08-21-20-sitdown_chair-m2.txt\n",
      "Sitdown_chair : Accelerometer-2011-05-31-16-22-37-sitdown_chair-f1.txt\n"
     ]
    },
    {
     "name": "stdout",
     "output_type": "stream",
     "text": [
      "Sitdown_chair : Accelerometer-2011-12-11-08-23-42-sitdown_chair-m2.txt\n",
      "Sitdown_chair : Accelerometer-2011-05-30-09-23-12-sitdown_chair-f1.txt\n",
      "Sitdown_chair : Accelerometer-2011-04-08-17-34-35-sitdown_chair-f3.txt\n",
      "Sitdown_chair : Accelerometer-2012-03-26-05-04-48-sitdown_chair-m3.txt\n",
      "Sitdown_chair : Accelerometer-2011-06-01-14-37-35-sitdown_chair-f1.txt\n",
      "Sitdown_chair : Accelerometer-2012-03-23-03-45-26-sitdown_chair-m9.txt\n",
      "Sitdown_chair : Accelerometer-2011-12-05-09-50-54-sitdown_chair-f1.txt\n",
      "Sitdown_chair : Accelerometer-2011-06-02-16-43-56-sitdown_chair-f4.txt\n",
      "Sitdown_chair : Accelerometer-2011-06-02-16-46-07-sitdown_chair-f4.txt\n",
      "Sitdown_chair : Accelerometer-2012-03-26-04-54-57-sitdown_chair-f2.txt\n",
      "Sitdown_chair : Accelerometer-2011-04-08-18-09-40-sitdown_chair-m4.txt\n",
      "Sitdown_chair : Accelerometer-2011-05-30-10-21-50-sitdown_chair-m1.txt\n",
      "Sitdown_chair : Accelerometer-2011-12-05-09-53-32-sitdown_chair-f1.txt\n",
      "Sitdown_chair : Accelerometer-2011-12-11-08-12-14-sitdown_chair-f4.txt\n",
      "Sitdown_chair : Accelerometer-2011-06-02-17-05-36-sitdown_chair-f4.txt\n",
      "Sitdown_chair : Accelerometer-2011-06-02-17-26-23-sitdown_chair-m1.txt\n",
      "Sitdown_chair : Accelerometer-2011-12-11-08-11-11-sitdown_chair-f4.txt\n",
      "Sitdown_chair : Accelerometer-2011-04-08-17-33-10-sitdown_chair-f3.txt\n",
      "Sitdown_chair : Accelerometer-2011-06-01-14-45-42-sitdown_chair-f1.txt\n",
      "Sitdown_chair : Accelerometer-2011-05-30-20-55-28-sitdown_chair-f1.txt\n",
      "Sitdown_chair : Accelerometer-2011-06-01-14-43-55-sitdown_chair-f1.txt\n",
      "Sitdown_chair : Accelerometer-2011-06-02-17-45-12-sitdown_chair-m1.txt\n",
      "Sitdown_chair : Accelerometer-2011-05-31-16-33-27-sitdown_chair-f1.txt\n",
      "Sitdown_chair : Accelerometer-2011-06-02-16-21-01-sitdown_chair-f1.txt\n",
      "Sitdown_chair : Accelerometer-2011-06-01-14-41-42-sitdown_chair-f1.txt\n",
      "Sitdown_chair : Accelerometer-2011-04-12-21-43-15-sitdown_chair-m8.txt\n",
      "Sitdown_chair : Accelerometer-2011-06-01-14-50-18-sitdown_chair-f1.txt\n",
      "Sitdown_chair : Accelerometer-2012-05-28-17-40-02-sitdown_chair-m1.txt\n",
      "Sitdown_chair : Accelerometer-2011-03-24-09-50-16-sitdown_chair-f1.txt\n",
      "Sitdown_chair : Accelerometer-2011-06-02-17-42-45-sitdown_chair-m1.txt\n",
      "Sitdown_chair : Accelerometer-2011-05-30-08-22-28-sitdown_chair-f1.txt\n",
      "Sitdown_chair : Accelerometer-2011-06-06-09-34-12-sitdown_chair-f1.txt\n",
      "Sitdown_chair : Accelerometer-2012-05-28-17-41-12-sitdown_chair-m1.txt\n",
      "Sitdown_chair : Accelerometer-2011-12-11-08-16-20-sitdown_chair-f4.txt\n",
      "Sitdown_chair : Accelerometer-2011-06-02-16-45-19-sitdown_chair-f4.txt\n",
      "Sitdown_chair : Accelerometer-2011-06-02-17-32-07-sitdown_chair-m1.txt\n",
      "Sitdown_chair : Accelerometer-2011-05-31-15-07-32-sitdown_chair-f1.txt\n",
      "Sitdown_chair : Accelerometer-2011-05-30-21-33-15-sitdown_chair-m2.txt\n",
      "Sitdown_chair : Accelerometer-2011-12-05-09-48-48-sitdown_chair-f1.txt\n",
      "Sitdown_chair : Accelerometer-2012-03-26-05-02-58-sitdown_chair-m3.txt\n",
      "Sitdown_chair : Accelerometer-2011-06-06-09-35-43-sitdown_chair-f1.txt\n",
      "Sitdown_chair : Accelerometer-2011-06-02-16-21-36-sitdown_chair-f1.txt\n",
      "Sitdown_chair : Accelerometer-2011-04-11-11-45-28-sitdown_chair-f1.txt\n",
      "Sitdown_chair : Accelerometer-2011-05-30-20-48-57-sitdown_chair-f1.txt\n",
      "Sitdown_chair : Accelerometer-2011-12-11-08-22-36-sitdown_chair-m2.txt\n",
      "Sitdown_chair : Accelerometer-2011-05-30-20-49-32-sitdown_chair-f1.txt\n",
      "Sitdown_chair : Accelerometer-2011-06-02-16-54-34-sitdown_chair-f4.txt\n",
      "Sitdown_chair : Accelerometer-2011-04-12-21-42-24-sitdown_chair-m8.txt\n",
      "Sitdown_chair : Accelerometer-2011-12-11-08-19-32-sitdown_chair-m2.txt\n",
      "Sitdown_chair : Accelerometer-2012-05-28-17-46-13-sitdown_chair-m1.txt\n",
      "Sitdown_chair : Accelerometer-2011-03-29-09-12-27-sitdown_chair-f1.txt\n",
      "Sitdown_chair : Accelerometer-2011-12-11-08-24-32-sitdown_chair-m2.txt\n",
      "Sitdown_chair : Accelerometer-2011-03-24-16-09-29-sitdown_chair-f2.txt\n",
      "Sitdown_chair : Accelerometer-2011-12-05-09-46-34-sitdown_chair-f1.txt\n",
      "Sitdown_chair : Accelerometer-2011-12-05-09-44-08-sitdown_chair-f1.txt\n",
      "Sitdown_chair : Accelerometer-2011-06-01-14-51-28-sitdown_chair-f1.txt\n",
      "Sitdown_chair : Accelerometer-2011-12-05-09-58-23-sitdown_chair-f1.txt\n",
      "Sitdown_chair : Accelerometer-2011-06-02-17-25-34-sitdown_chair-m1.txt\n",
      "Sitdown_chair : Accelerometer-2011-05-30-21-37-52-sitdown_chair-m2.txt\n",
      "Sitdown_chair : Accelerometer-2012-05-25-18-27-57-sitdown_chair-f4.txt\n",
      "Sitdown_chair : Accelerometer-2011-12-11-08-13-16-sitdown_chair-f4.txt\n",
      "Sitdown_chair : Accelerometer-2012-05-25-18-33-29-sitdown_chair-f4.txt\n",
      "Sitdown_chair : Accelerometer-2011-05-31-14-59-27-sitdown_chair-f1.txt\n",
      "Sitdown_chair : Accelerometer-2011-05-31-14-53-37-sitdown_chair-f1.txt\n",
      "Use_telephone : Accelerometer-2011-05-30-08-27-44-use_telephone-f1.txt\n",
      "Use_telephone : Accelerometer-2011-05-30-21-00-40-use_telephone-f1.txt\n",
      "Use_telephone : Accelerometer-2011-05-30-10-28-13-use_telephone-m1.txt\n",
      "Use_telephone : Accelerometer-2011-04-05-18-29-19-use_telephone-f1.txt\n",
      "Use_telephone : Accelerometer-2011-03-29-09-30-56-use_telephone-f1.txt\n",
      "Use_telephone : Accelerometer-2011-03-29-09-52-41-use_telephone-f1.txt\n",
      "Use_telephone : Accelerometer-2011-03-29-09-32-59-use_telephone-f1.txt\n",
      "Use_telephone : Accelerometer-2011-05-30-09-34-12-use_telephone-f1.txt\n",
      "Use_telephone : Accelerometer-2011-04-11-11-53-34-use_telephone-f1.txt\n",
      "Use_telephone : Accelerometer-2011-04-11-11-54-10-use_telephone-f1.txt\n",
      "Use_telephone : Accelerometer-2011-05-31-16-31-11-use_telephone-f1.txt\n",
      "Use_telephone : Accelerometer-2011-05-30-21-43-16-use_telephone-m2.txt\n",
      "Use_telephone : Accelerometer-2011-05-31-15-03-53-use_telephone-f1.txt\n",
      "Eat_soup : Accelerometer-2011-03-24-13-44-18-eat_soup-f1.txt\n",
      "Eat_soup : Accelerometer-2011-03-24-13-33-22-eat_soup-f1.txt\n",
      "Eat_soup : Accelerometer-2011-03-24-13-56-42-eat_soup-f1.txt\n"
     ]
    }
   ],
   "source": [
    "import os\n",
    "import fnmatch\n",
    "import random\n",
    "from pyspark.sql.functions import lit\n",
    "\n",
    "sample = os.environ.get('sample', '1.0')\n",
    "sample = float(sample)\n",
    "\n",
    "d = 'HMP_Dataset/'\n",
    "\n",
    "# filter list all folders containing data (folders that don't start with .)\n",
    "file_list_filtered = [s for s in os.listdir(d)\n",
    "                      if os.path.isdir(os.path.join(d, s)) & ~fnmatch.fnmatch(s, '.*')]\n",
    "\n",
    "# create pandas data frame for all the data\n",
    "df = None\n",
    "\n",
    "for category in file_list_filtered:\n",
    "    data_files = os.listdir('HMP_Dataset/' + category)\n",
    "    for data_file in data_files:\n",
    "        print(category, \":\", data_file)\n",
    "        temp_df = spark.read. \\\n",
    "            option(\"header\", \"false\"). \\\n",
    "            option(\"delimiter\", \" \"). \\\n",
    "            csv('HMP_Dataset/' + category + '/' + data_file, schema=schema)\n",
    "        \n",
    "        # create a column called \"source\" storing the current CSV file\n",
    "        temp_df = temp_df.withColumn(\"source\", lit(data_file))\n",
    "\n",
    "        # create a column called \"class\" storing the current data folder\n",
    "        temp_df = temp_df.withColumn(\"class\", lit(category))\n",
    "\n",
    "        if df is None:\n",
    "            df = temp_df\n",
    "        else:\n",
    "            df = df.union(temp_df)"
   ]
  },
  {
   "cell_type": "code",
   "execution_count": 5,
   "id": "37007c6f",
   "metadata": {},
   "outputs": [
    {
     "name": "stdout",
     "output_type": "stream",
     "text": [
      "+---+---+---+--------------------+-----------+\n",
      "|  x|  y|  z|              source|      class|\n",
      "+---+---+---+--------------------+-----------+\n",
      "| 11| 34| 34|Accelerometer-201...|Liedown_bed|\n",
      "| 11| 34| 34|Accelerometer-201...|Liedown_bed|\n",
      "| 12| 35| 34|Accelerometer-201...|Liedown_bed|\n",
      "| 12| 36| 33|Accelerometer-201...|Liedown_bed|\n",
      "| 11| 35| 34|Accelerometer-201...|Liedown_bed|\n",
      "+---+---+---+--------------------+-----------+\n",
      "only showing top 5 rows\n",
      "\n"
     ]
    }
   ],
   "source": [
    "df.show(5)"
   ]
  },
  {
   "cell_type": "code",
   "execution_count": 6,
   "id": "904a2b24",
   "metadata": {},
   "outputs": [
    {
     "name": "stdout",
     "output_type": "stream",
     "text": [
      "root\n",
      " |-- x: integer (nullable = true)\n",
      " |-- y: integer (nullable = true)\n",
      " |-- z: integer (nullable = true)\n",
      " |-- source: string (nullable = false)\n",
      " |-- class: string (nullable = false)\n",
      "\n"
     ]
    }
   ],
   "source": [
    "df.printSchema()"
   ]
  },
  {
   "cell_type": "markdown",
   "id": "3f0d8594",
   "metadata": {},
   "source": [
    "## 3. Store the dataframe to parquet (in Cloud Object Store)"
   ]
  },
  {
   "cell_type": "markdown",
   "id": "a7197d50",
   "metadata": {},
   "source": [
    "Let's first be sure to have one parquet file. We'll repartition the data frame to one and extract/rename the file inside the folder."
   ]
  },
  {
   "cell_type": "code",
   "execution_count": 7,
   "id": "806860d0",
   "metadata": {},
   "outputs": [],
   "source": [
    "df = df.repartition(1)"
   ]
  },
  {
   "cell_type": "code",
   "execution_count": 8,
   "id": "4a893c53",
   "metadata": {},
   "outputs": [],
   "source": [
    "df.write.parquet(\"data_condensed.parquet\")"
   ]
  },
  {
   "cell_type": "code",
   "execution_count": 10,
   "id": "8de233d3",
   "metadata": {},
   "outputs": [
    {
     "name": "stdout",
     "output_type": "stream",
     "text": [
      "mv: cannot overwrite non-directory 'condensed_data.parquet' with directory 'data_condensed.parquet/'\r\n"
     ]
    }
   ],
   "source": [
    "!mv data_condensed.parquet/`ls data_condensed.parquet |grep .parquet` condensed_data.parquet"
   ]
  },
  {
   "cell_type": "code",
   "execution_count": 11,
   "id": "c82a0b82",
   "metadata": {},
   "outputs": [],
   "source": [
    "!rm -Rf  data_condensed.parquet"
   ]
  },
  {
   "cell_type": "markdown",
   "id": "394bad59",
   "metadata": {},
   "source": [
    "## 4. Upload to IBM Cloud Object Storage COS"
   ]
  },
  {
   "cell_type": "markdown",
   "id": "68e7793d",
   "metadata": {},
   "source": [
    "Uncomment the following command if S3Fs `'a Pythonic file interface to S3'` is not yet installed"
   ]
  },
  {
   "cell_type": "code",
   "execution_count": null,
   "id": "ee8ed5b4",
   "metadata": {},
   "outputs": [],
   "source": [
    "# !pip install s3fs==2021.7.0"
   ]
  },
  {
   "cell_type": "markdown",
   "id": "60418208",
   "metadata": {},
   "source": [
    "Let's import `s3fs` and read my credentials to connect to IBM COS (it's a free account), the same thing applyes for AWS S3"
   ]
  },
  {
   "cell_type": "code",
   "execution_count": 12,
   "id": "2d806b27",
   "metadata": {},
   "outputs": [],
   "source": [
    "import s3fs\n",
    "import json\n",
    "with open('COS_credential.json') as f:\n",
    "    keys=json.load(f)"
   ]
  },
  {
   "cell_type": "code",
   "execution_count": 18,
   "id": "fd5e7820",
   "metadata": {},
   "outputs": [],
   "source": [
    "access_key_id=keys['access_key_id']\n",
    "secret_access_key=keys['secret_access_key']\n",
    "endpoint=keys['endpoint']\n",
    "bucket_name=keys['bucket_name']\n",
    "source_file='condensed_data.parquet'\n",
    "destination_file='HMP_data.parquet'"
   ]
  },
  {
   "cell_type": "code",
   "execution_count": 14,
   "id": "1cf63650",
   "metadata": {},
   "outputs": [],
   "source": [
    "s3 = s3fs.S3FileSystem(\n",
    "    anon=False,\n",
    "    key=access_key_id,\n",
    "    secret=secret_access_key,\n",
    "    client_kwargs={'endpoint_url': endpoint}\n",
    ")"
   ]
  },
  {
   "cell_type": "code",
   "execution_count": 19,
   "id": "140c01f9",
   "metadata": {},
   "outputs": [
    {
     "data": {
      "text/plain": [
       "[None]"
      ]
     },
     "execution_count": 19,
     "metadata": {},
     "output_type": "execute_result"
    }
   ],
   "source": [
    "s3.put(source_file, bucket_name + '/' + destination_file)"
   ]
  },
  {
   "cell_type": "markdown",
   "id": "22a3e75c",
   "metadata": {},
   "source": [
    "The command above has succissfuly putten the file in the cloud as shown from the result of the cell bellow and also the picture.\n",
    "![](cos-objects.png)"
   ]
  },
  {
   "cell_type": "code",
   "execution_count": 20,
   "id": "cd07cf7e",
   "metadata": {},
   "outputs": [
    {
     "data": {
      "text/plain": [
       "['cloud-object-storage-yy-cos-standard-js4/HMP_data.parquet',\n",
       " 'cloud-object-storage-yy-cos-standard-js4/data.parquet',\n",
       " 'cloud-object-storage-yy-cos-standard-js4/jfk_data.parquet']"
      ]
     },
     "execution_count": 20,
     "metadata": {},
     "output_type": "execute_result"
    }
   ],
   "source": [
    "s3.ls(bucket_name)"
   ]
  },
  {
   "cell_type": "markdown",
   "id": "83413014",
   "metadata": {},
   "source": [
    "## 5. Read the data again (from Cloud Object Store)"
   ]
  },
  {
   "cell_type": "code",
   "execution_count": 23,
   "id": "21729707",
   "metadata": {},
   "outputs": [],
   "source": [
    "import pandas as pd\n",
    "df=pd.read_parquet(endpoint + '/' + bucket_name + '/HMP_data.parquet')"
   ]
  },
  {
   "cell_type": "markdown",
   "id": "7f390b07",
   "metadata": {},
   "source": [
    "You can uncomment the following cell to read the same parquet file from my ibm storage acount"
   ]
  },
  {
   "cell_type": "code",
   "execution_count": 7,
   "id": "db6860e4",
   "metadata": {},
   "outputs": [
    {
     "name": "stdout",
     "output_type": "stream",
     "text": [
      "Collecting pandas\n",
      "  Downloading pandas-1.3.4-cp38-cp38-manylinux_2_17_x86_64.manylinux2014_x86_64.whl (11.5 MB)\n",
      "\u001b[K     |████████████████████████████████| 11.5 MB 8.0 MB/s eta 0:00:01\n",
      "\u001b[?25hRequirement already satisfied: python-dateutil>=2.7.3 in /usr/lib/python3/dist-packages (from pandas) (2.7.3)\n",
      "Collecting numpy>=1.17.3; platform_machine != \"aarch64\" and platform_machine != \"arm64\" and python_version < \"3.10\"\n",
      "  Downloading numpy-1.21.4-cp38-cp38-manylinux_2_12_x86_64.manylinux2010_x86_64.whl (15.7 MB)\n",
      "\u001b[K     |████████████████████████████████| 15.7 MB 306 kB/s eta 0:00:01\n",
      "\u001b[?25hRequirement already satisfied: pytz>=2017.3 in /usr/lib/python3/dist-packages (from pandas) (2019.3)\n",
      "Installing collected packages: numpy, pandas\n",
      "Successfully installed numpy-1.21.4 pandas-1.3.4\n"
     ]
    }
   ],
   "source": [
    "!pip3 install pandas"
   ]
  },
  {
   "cell_type": "code",
   "execution_count": 9,
   "id": "bbbacb83",
   "metadata": {},
   "outputs": [
    {
     "name": "stdout",
     "output_type": "stream",
     "text": [
      "Collecting pyarrow\n",
      "  Using cached pyarrow-6.0.1-cp38-cp38-manylinux_2_17_x86_64.manylinux2014_x86_64.whl (25.6 MB)\n",
      "Requirement already satisfied: numpy>=1.16.6 in /home/mbg/.local/lib/python3.8/site-packages (from pyarrow) (1.21.4)\n",
      "Installing collected packages: pyarrow\n",
      "Successfully installed pyarrow-6.0.1\n"
     ]
    }
   ],
   "source": [
    "!pip3 install pyarrow"
   ]
  },
  {
   "cell_type": "code",
   "execution_count": 3,
   "id": "7d3a3c0e",
   "metadata": {
    "scrolled": false
   },
   "outputs": [],
   "source": [
    "import pandas as pd\n",
    "df=pd.read_parquet(\"https://s3.eu-de.cloud-object-storage.appdomain.cloud/cloud-object-storage-yy-cos-standard-js4/data.parquet\")"
   ]
  },
  {
   "cell_type": "code",
   "execution_count": 4,
   "id": "b609bab6",
   "metadata": {},
   "outputs": [
    {
     "data": {
      "text/html": [
       "<div>\n",
       "<style scoped>\n",
       "    .dataframe tbody tr th:only-of-type {\n",
       "        vertical-align: middle;\n",
       "    }\n",
       "\n",
       "    .dataframe tbody tr th {\n",
       "        vertical-align: top;\n",
       "    }\n",
       "\n",
       "    .dataframe thead th {\n",
       "        text-align: right;\n",
       "    }\n",
       "</style>\n",
       "<table border=\"1\" class=\"dataframe\">\n",
       "  <thead>\n",
       "    <tr style=\"text-align: right;\">\n",
       "      <th></th>\n",
       "      <th>x</th>\n",
       "      <th>y</th>\n",
       "      <th>z</th>\n",
       "      <th>source</th>\n",
       "      <th>class</th>\n",
       "    </tr>\n",
       "  </thead>\n",
       "  <tbody>\n",
       "    <tr>\n",
       "      <th>0</th>\n",
       "      <td>28</td>\n",
       "      <td>45</td>\n",
       "      <td>47</td>\n",
       "      <td>Accelerometer-2011-03-29-09-52-41-use_telephon...</td>\n",
       "      <td>Use_telephone</td>\n",
       "    </tr>\n",
       "    <tr>\n",
       "      <th>1</th>\n",
       "      <td>28</td>\n",
       "      <td>45</td>\n",
       "      <td>47</td>\n",
       "      <td>Accelerometer-2011-03-29-09-52-41-use_telephon...</td>\n",
       "      <td>Use_telephone</td>\n",
       "    </tr>\n",
       "    <tr>\n",
       "      <th>2</th>\n",
       "      <td>28</td>\n",
       "      <td>46</td>\n",
       "      <td>48</td>\n",
       "      <td>Accelerometer-2011-03-29-09-52-41-use_telephon...</td>\n",
       "      <td>Use_telephone</td>\n",
       "    </tr>\n",
       "    <tr>\n",
       "      <th>3</th>\n",
       "      <td>28</td>\n",
       "      <td>46</td>\n",
       "      <td>48</td>\n",
       "      <td>Accelerometer-2011-03-29-09-52-41-use_telephon...</td>\n",
       "      <td>Use_telephone</td>\n",
       "    </tr>\n",
       "    <tr>\n",
       "      <th>4</th>\n",
       "      <td>27</td>\n",
       "      <td>45</td>\n",
       "      <td>47</td>\n",
       "      <td>Accelerometer-2011-03-29-09-52-41-use_telephon...</td>\n",
       "      <td>Use_telephone</td>\n",
       "    </tr>\n",
       "  </tbody>\n",
       "</table>\n",
       "</div>"
      ],
      "text/plain": [
       "    x   y   z                                             source  \\\n",
       "0  28  45  47  Accelerometer-2011-03-29-09-52-41-use_telephon...   \n",
       "1  28  45  47  Accelerometer-2011-03-29-09-52-41-use_telephon...   \n",
       "2  28  46  48  Accelerometer-2011-03-29-09-52-41-use_telephon...   \n",
       "3  28  46  48  Accelerometer-2011-03-29-09-52-41-use_telephon...   \n",
       "4  27  45  47  Accelerometer-2011-03-29-09-52-41-use_telephon...   \n",
       "\n",
       "           class  \n",
       "0  Use_telephone  \n",
       "1  Use_telephone  \n",
       "2  Use_telephone  \n",
       "3  Use_telephone  \n",
       "4  Use_telephone  "
      ]
     },
     "execution_count": 4,
     "metadata": {},
     "output_type": "execute_result"
    }
   ],
   "source": [
    "df.head()"
   ]
  },
  {
   "cell_type": "code",
   "execution_count": 4,
   "id": "d5dc9b8a",
   "metadata": {},
   "outputs": [],
   "source": [
    "sdf = spark.createDataFrame(df)"
   ]
  },
  {
   "cell_type": "code",
   "execution_count": 5,
   "id": "948fa590",
   "metadata": {},
   "outputs": [],
   "source": [
    "from pyspark.sql.types import DoubleType\n",
    "sdf = sdf.withColumn(\"x\", sdf.x.cast(DoubleType()))\n",
    "sdf = sdf.withColumn(\"y\", sdf.y.cast(DoubleType()))\n",
    "sdf = sdf.withColumn(\"z\", sdf.z.cast(DoubleType()))"
   ]
  },
  {
   "cell_type": "code",
   "execution_count": 6,
   "id": "afcafdd5",
   "metadata": {},
   "outputs": [
    {
     "name": "stdout",
     "output_type": "stream",
     "text": [
      "root\n",
      " |-- x: double (nullable = true)\n",
      " |-- y: double (nullable = true)\n",
      " |-- z: double (nullable = true)\n",
      " |-- source: string (nullable = true)\n",
      " |-- class: string (nullable = true)\n",
      "\n"
     ]
    }
   ],
   "source": [
    "sdf.printSchema()"
   ]
  },
  {
   "cell_type": "markdown",
   "id": "be645811",
   "metadata": {},
   "source": [
    "## 6. Building and Training a classification Model"
   ]
  },
  {
   "cell_type": "code",
   "execution_count": 7,
   "id": "8ac884a1",
   "metadata": {},
   "outputs": [],
   "source": [
    "from pyspark.ml.feature import StringIndexer\n",
    "from pyspark.ml.feature import VectorAssembler\n",
    "from pyspark.ml.feature import MinMaxScaler\n",
    "from pyspark.ml import Pipeline\n",
    "from pyspark.ml.evaluation import MulticlassClassificationEvaluator"
   ]
  },
  {
   "cell_type": "code",
   "execution_count": 8,
   "id": "971b7fb3",
   "metadata": {},
   "outputs": [],
   "source": [
    "input_columns = [\"x\", \"y\", \"z\"]  # input columns to consider\n",
    "\n",
    "train, test = sdf.randomSplit([0.8, 0.2], seed=1)\n",
    "\n",
    "indexer = StringIndexer(inputCol=\"class\", outputCol=\"label\")\n",
    "\n",
    "vectorAssembler = VectorAssembler(inputCols=input_columns, outputCol=\"features\")\n",
    "\n",
    "normalizer = MinMaxScaler(inputCol=\"features\", outputCol=\"features_norm\")\n",
    "\n",
    "pipeline = Pipeline(stages=[indexer, vectorAssembler, normalizer])\n",
    "\n",
    "binEval = MulticlassClassificationEvaluator().setMetricName(\"accuracy\").setPredictionCol(\"prediction\"). \\\n",
    "    setLabelCol(\"label\")"
   ]
  },
  {
   "cell_type": "code",
   "execution_count": 9,
   "id": "ae533de1",
   "metadata": {},
   "outputs": [
    {
     "name": "stderr",
     "output_type": "stream",
     "text": [
      "                                                                                \r"
     ]
    }
   ],
   "source": [
    "df_train = pipeline.fit(train).transform(train)\n",
    "df_test = pipeline.fit(test).transform(test)"
   ]
  },
  {
   "cell_type": "code",
   "execution_count": 13,
   "id": "15adbb3c",
   "metadata": {},
   "outputs": [
    {
     "name": "stdout",
     "output_type": "stream",
     "text": [
      "+----+----+----+--------------------+-------------+-----+----------------+--------------------+\n",
      "|   x|   y|   z|              source|        class|label|        features|       features_norm|\n",
      "+----+----+----+--------------------+-------------+-----+----------------+--------------------+\n",
      "|20.0|45.0|45.0|Accelerometer-201...|Use_telephone|  0.0|[20.0,45.0,45.0]|[0.31746031746031...|\n",
      "|21.0|46.0|52.0|Accelerometer-201...|Use_telephone|  0.0|[21.0,46.0,52.0]|[0.33333333333333...|\n",
      "|21.0|47.0|45.0|Accelerometer-201...|Use_telephone|  0.0|[21.0,47.0,45.0]|[0.33333333333333...|\n",
      "|22.0|40.0|49.0|Accelerometer-201...|Use_telephone|  0.0|[22.0,40.0,49.0]|[0.34920634920634...|\n",
      "|23.0|47.0|52.0|Accelerometer-201...|Use_telephone|  0.0|[23.0,47.0,52.0]|[0.36507936507936...|\n",
      "+----+----+----+--------------------+-------------+-----+----------------+--------------------+\n",
      "only showing top 5 rows\n",
      "\n"
     ]
    }
   ],
   "source": [
    "df_train.show(5)"
   ]
  },
  {
   "cell_type": "code",
   "execution_count": 14,
   "id": "90e5223a",
   "metadata": {},
   "outputs": [
    {
     "name": "stdout",
     "output_type": "stream",
     "text": [
      "Training Dataset Count: 6653\n",
      "Test Dataset Count: 1718\n"
     ]
    }
   ],
   "source": [
    "print(\"Training Dataset Count: \" + str(df_train.count()))\n",
    "print(\"Test Dataset Count: \" + str(df_test.count()))"
   ]
  },
  {
   "cell_type": "code",
   "execution_count": 30,
   "id": "5bc17510",
   "metadata": {},
   "outputs": [
    {
     "name": "stdout",
     "output_type": "stream",
     "text": [
      "Training Dataset Count: 357420\n",
      "Test Dataset Count: 89109\n"
     ]
    }
   ],
   "source": [
    "print(\"Training Dataset Count: \" + str(df_train.count()))\n",
    "print(\"Test Dataset Count: \" + str(df_test.count()))"
   ]
  },
  {
   "cell_type": "markdown",
   "id": "733754d5",
   "metadata": {},
   "source": [
    "### Logistic regression"
   ]
  },
  {
   "cell_type": "markdown",
   "id": "21417d3e",
   "metadata": {},
   "source": [
    "we'll will train a logistic regression model and perform hyperparameter tuning as follows:\n",
    "\n",
    "*   Train it with different hyperparameters listed below and report the best performing hyperparameter combinations.\n",
    "\n",
    "    Hyper parameters:\n",
    "   ``` \n",
    "       - max iteration : {10, 100, 1000}\n",
    "       - regularization : {0.01, 0.5, 2.0}\n",
    "       - elastic net parameter : {0.0, 0.5, 1.0}\n",
    "   ```\n",
    "*   Use the accuracy metric when evaluating the model with different hyperparameters\n",
    "\n",
    "`elasticNetParam ; allows to have both L1 and L2 regularization as special cases. set to 1, it is equivalent to a Lasso model and if set to 0, the trained model reduces to a ridge regression model.`"
   ]
  },
  {
   "cell_type": "code",
   "execution_count": 31,
   "id": "4bbcbfcb",
   "metadata": {},
   "outputs": [],
   "source": [
    "from pyspark.ml.classification import LogisticRegression"
   ]
  },
  {
   "cell_type": "code",
   "execution_count": 32,
   "id": "9103c1c7",
   "metadata": {},
   "outputs": [],
   "source": [
    "data = [];\n",
    "for i in [10, 100, 1000]:\n",
    "    for j in [0.01, 0.5, 2.0]:\n",
    "        for k in [0.0, 0.5, 1.]:\n",
    "            lr = LogisticRegression(featuresCol='features_norm', labelCol='label', maxIter=i,regParam=j,\n",
    "                        elasticNetParam=k)\n",
    "            model = lr.fit(df_train)\n",
    "            data.append([i,j,k,binEval.evaluate(model.transform(df_train))*100,\n",
    "                            binEval.evaluate(model.transform(df_test))*100])"
   ]
  },
  {
   "cell_type": "code",
   "execution_count": 33,
   "id": "3918e5a8",
   "metadata": {
    "scrolled": false
   },
   "outputs": [
    {
     "data": {
      "text/html": [
       "<div>\n",
       "<style scoped>\n",
       "    .dataframe tbody tr th:only-of-type {\n",
       "        vertical-align: middle;\n",
       "    }\n",
       "\n",
       "    .dataframe tbody tr th {\n",
       "        vertical-align: top;\n",
       "    }\n",
       "\n",
       "    .dataframe thead th {\n",
       "        text-align: right;\n",
       "    }\n",
       "</style>\n",
       "<table border=\"1\" class=\"dataframe\">\n",
       "  <thead>\n",
       "    <tr style=\"text-align: right;\">\n",
       "      <th></th>\n",
       "      <th>maxIter</th>\n",
       "      <th>regParam</th>\n",
       "      <th>elasticNetParam</th>\n",
       "      <th>accuracy_tr</th>\n",
       "      <th>accuracy_test</th>\n",
       "    </tr>\n",
       "  </thead>\n",
       "  <tbody>\n",
       "    <tr>\n",
       "      <th>20</th>\n",
       "      <td>1000</td>\n",
       "      <td>0.01</td>\n",
       "      <td>1.0</td>\n",
       "      <td>35.405405</td>\n",
       "      <td>35.266920</td>\n",
       "    </tr>\n",
       "    <tr>\n",
       "      <th>11</th>\n",
       "      <td>100</td>\n",
       "      <td>0.01</td>\n",
       "      <td>1.0</td>\n",
       "      <td>35.405405</td>\n",
       "      <td>35.266920</td>\n",
       "    </tr>\n",
       "    <tr>\n",
       "      <th>2</th>\n",
       "      <td>10</td>\n",
       "      <td>0.01</td>\n",
       "      <td>1.0</td>\n",
       "      <td>35.322310</td>\n",
       "      <td>35.167043</td>\n",
       "    </tr>\n",
       "    <tr>\n",
       "      <th>1</th>\n",
       "      <td>10</td>\n",
       "      <td>0.01</td>\n",
       "      <td>0.5</td>\n",
       "      <td>35.113312</td>\n",
       "      <td>35.109809</td>\n",
       "    </tr>\n",
       "    <tr>\n",
       "      <th>19</th>\n",
       "      <td>1000</td>\n",
       "      <td>0.01</td>\n",
       "      <td>0.5</td>\n",
       "      <td>34.967825</td>\n",
       "      <td>34.965043</td>\n",
       "    </tr>\n",
       "  </tbody>\n",
       "</table>\n",
       "</div>"
      ],
      "text/plain": [
       "    maxIter  regParam  elasticNetParam  accuracy_tr  accuracy_test\n",
       "20     1000      0.01              1.0    35.405405      35.266920\n",
       "11      100      0.01              1.0    35.405405      35.266920\n",
       "2        10      0.01              1.0    35.322310      35.167043\n",
       "1        10      0.01              0.5    35.113312      35.109809\n",
       "19     1000      0.01              0.5    34.967825      34.965043"
      ]
     },
     "execution_count": 33,
     "metadata": {},
     "output_type": "execute_result"
    }
   ],
   "source": [
    "df = pd.DataFrame(data, columns=['maxIter', 'regParam', 'elasticNetParam', 'accuracy_tr', 'accuracy_test'])\n",
    "df.sort_values(by=['accuracy_tr'], ascending=False).head(5)"
   ]
  },
  {
   "cell_type": "markdown",
   "id": "91e6afaf",
   "metadata": {},
   "source": [
    "The logistic regression model is not performing but anayway the best parameters are {`max iter: 100`, `regParam:0.01` and `elasticNet:1`}"
   ]
  },
  {
   "cell_type": "markdown",
   "id": "b209f897",
   "metadata": {},
   "source": [
    "### RandomForest classification\n",
    "\n",
    "In this task, you will train a RandomForest classification model and perform hyperparameter tuning as follows:\n",
    "\n",
    "*   Train a Random Forest model with different hyperparameters listed below and report the best performing hyperparameter combinations.\n",
    "\n",
    "    Hyper parameters:\n",
    "   ``` \n",
    "       - number of trees : {10, 20}\n",
    "       - maximum depth : {5, 7} \n",
    "   ```\n",
    "*   Use the accuracy metric when evaluating the model with different hyperparameters"
   ]
  },
  {
   "cell_type": "code",
   "execution_count": 10,
   "id": "4079c0bd",
   "metadata": {},
   "outputs": [],
   "source": [
    "from pyspark.ml.classification import RandomForestClassifier"
   ]
  },
  {
   "cell_type": "code",
   "execution_count": 35,
   "id": "81fa36d3",
   "metadata": {},
   "outputs": [],
   "source": [
    "data = [];\n",
    "for i in [10, 20]:\n",
    "    for j in [5, 7]:\n",
    "        rf = RandomForestClassifier(featuresCol = 'features_norm', labelCol = 'label', maxDepth=i,\n",
    "                                    numTrees=j, seed=1)\n",
    "        rfModel = rf.fit(df_train)\n",
    "        data.append([i,j,binEval.evaluate(rfModel.transform(df_train))*100,\n",
    "                        binEval.evaluate(rfModel.transform(df_test))*100])"
   ]
  },
  {
   "cell_type": "code",
   "execution_count": 36,
   "id": "bf0b3e17",
   "metadata": {},
   "outputs": [
    {
     "data": {
      "text/html": [
       "<div>\n",
       "<style scoped>\n",
       "    .dataframe tbody tr th:only-of-type {\n",
       "        vertical-align: middle;\n",
       "    }\n",
       "\n",
       "    .dataframe tbody tr th {\n",
       "        vertical-align: top;\n",
       "    }\n",
       "\n",
       "    .dataframe thead th {\n",
       "        text-align: right;\n",
       "    }\n",
       "</style>\n",
       "<table border=\"1\" class=\"dataframe\">\n",
       "  <thead>\n",
       "    <tr style=\"text-align: right;\">\n",
       "      <th></th>\n",
       "      <th>nbrTrees</th>\n",
       "      <th>maxDepth</th>\n",
       "      <th>accuracy_tr</th>\n",
       "      <th>accuracy_test</th>\n",
       "    </tr>\n",
       "  </thead>\n",
       "  <tbody>\n",
       "    <tr>\n",
       "      <th>3</th>\n",
       "      <td>20</td>\n",
       "      <td>7</td>\n",
       "      <td>52.318281</td>\n",
       "      <td>48.693174</td>\n",
       "    </tr>\n",
       "    <tr>\n",
       "      <th>2</th>\n",
       "      <td>20</td>\n",
       "      <td>5</td>\n",
       "      <td>52.179229</td>\n",
       "      <td>48.583196</td>\n",
       "    </tr>\n",
       "    <tr>\n",
       "      <th>1</th>\n",
       "      <td>10</td>\n",
       "      <td>7</td>\n",
       "      <td>49.102456</td>\n",
       "      <td>48.392418</td>\n",
       "    </tr>\n",
       "    <tr>\n",
       "      <th>0</th>\n",
       "      <td>10</td>\n",
       "      <td>5</td>\n",
       "      <td>48.961166</td>\n",
       "      <td>48.251018</td>\n",
       "    </tr>\n",
       "  </tbody>\n",
       "</table>\n",
       "</div>"
      ],
      "text/plain": [
       "   nbrTrees  maxDepth  accuracy_tr  accuracy_test\n",
       "3        20         7    52.318281      48.693174\n",
       "2        20         5    52.179229      48.583196\n",
       "1        10         7    49.102456      48.392418\n",
       "0        10         5    48.961166      48.251018"
      ]
     },
     "execution_count": 36,
     "metadata": {},
     "output_type": "execute_result"
    }
   ],
   "source": [
    "df = pd.DataFrame(data, columns=['nbrTrees', 'maxDepth', 'accuracy_tr', 'accuracy_test'])\n",
    "df.sort_values(by=['accuracy_tr'], ascending=False)"
   ]
  },
  {
   "cell_type": "markdown",
   "id": "bf70b2b5",
   "metadata": {},
   "source": [
    "Then the best parameters for the random forest model are {`number of trees`: 20 and `max depth`:7}"
   ]
  },
  {
   "cell_type": "markdown",
   "id": "9c15beab",
   "metadata": {},
   "source": [
    "## 7. Model building and deployement"
   ]
  },
  {
   "cell_type": "markdown",
   "id": "1efeca20",
   "metadata": {},
   "source": [
    "Let's first retrain the random forest model with the best parameters and then save as .xml (it's a PMML format, standing for “Predictive Model Markup Language” and is an interchange format for machine learning models). We’ll use this file to deploy to the `IBM Watson Machine Learning Service`"
   ]
  },
  {
   "cell_type": "code",
   "execution_count": 11,
   "id": "9acafd15",
   "metadata": {},
   "outputs": [
    {
     "name": "stderr",
     "output_type": "stream",
     "text": [
      "21/12/01 17:36:19 WARN DAGScheduler: Broadcasting large task binary with size 1086.9 KiB\n",
      "21/12/01 17:36:20 WARN DAGScheduler: Broadcasting large task binary with size 1441.7 KiB\n",
      "21/12/01 17:36:21 WARN DAGScheduler: Broadcasting large task binary with size 1800.6 KiB\n",
      "21/12/01 17:36:22 WARN DAGScheduler: Broadcasting large task binary with size 2.1 MiB\n",
      "21/12/01 17:36:22 WARN DAGScheduler: Broadcasting large task binary with size 2.3 MiB\n",
      "21/12/01 17:36:23 WARN DAGScheduler: Broadcasting large task binary with size 2.5 MiB\n",
      "21/12/01 17:36:23 WARN DAGScheduler: Broadcasting large task binary with size 2.6 MiB\n",
      "21/12/01 17:36:24 WARN DAGScheduler: Broadcasting large task binary with size 2.6 MiB\n",
      "21/12/01 17:36:24 WARN DAGScheduler: Broadcasting large task binary with size 2.3 MiB\n",
      "21/12/01 17:36:25 WARN DAGScheduler: Broadcasting large task binary with size 2.3 MiB\n"
     ]
    }
   ],
   "source": [
    "rf = RandomForestClassifier(featuresCol='features_norm', labelCol='label', maxDepth=20, numTrees=7, seed=1)\n",
    "rfModel = rf.fit(df_train)"
   ]
  },
  {
   "cell_type": "markdown",
   "id": "ac810579",
   "metadata": {},
   "source": [
    "if you get this error `An error occurred while trying to connect to the Java server (127.0.0.1:35321)` just restart the kernel, it's likely because you're in standalone mode and there is no enough memory. see <a href=\"https://stackoverflow.com/questions/51359802/pyspark-errorpy4j-java-gatewayan-error-occurred-while-trying-to-connect-to-the\">here</a>"
   ]
  },
  {
   "cell_type": "code",
   "execution_count": 17,
   "id": "71851404",
   "metadata": {},
   "outputs": [
    {
     "name": "stderr",
     "output_type": "stream",
     "text": [
      "21/12/01 17:05:38 WARN DAGScheduler: Broadcasting large task binary with size 1385.3 KiB\n"
     ]
    },
    {
     "data": {
      "text/plain": [
       "89.94438599128213"
      ]
     },
     "execution_count": 17,
     "metadata": {},
     "output_type": "execute_result"
    }
   ],
   "source": [
    "binEval.evaluate(rfModel.transform(df_train))*100"
   ]
  },
  {
   "cell_type": "code",
   "execution_count": null,
   "id": "e51f7b41",
   "metadata": {},
   "outputs": [],
   "source": [
    "# !export PYSPARK_DRIVER_PYTHON=jupyter\n",
    "# !export PYSPARK_DRIVER_PYTHON_OPTS='notebook'\n",
    "# !pyspark --jars jpmml-sparkml-executable-1.7.2.jar\n",
    "# !mv jpmml-sparkml-executable-1.7.2.jar /opt/spark/jars/"
   ]
  },
  {
   "cell_type": "code",
   "execution_count": 14,
   "id": "89b92f3a",
   "metadata": {},
   "outputs": [
    {
     "name": "stdout",
     "output_type": "stream",
     "text": [
      "Requirement already satisfied: pyspark2pmml==0.5.1 in /home/mbg/.local/lib/python3.8/site-packages (0.5.1)\r\n",
      "Requirement already satisfied: py4j in /home/mbg/.local/lib/python3.8/site-packages (from pyspark2pmml==0.5.1) (0.10.9.2)\r\n"
     ]
    }
   ],
   "source": [
    "!pip3 install pyspark2pmml==0.5.1"
   ]
  },
  {
   "cell_type": "code",
   "execution_count": 12,
   "id": "bf734e04",
   "metadata": {
    "scrolled": false
   },
   "outputs": [],
   "source": [
    "from pyspark2pmml import PMMLBuilder\n",
    "model_target = \"HMP_frModel.xml\"       # model output file name"
   ]
  },
  {
   "cell_type": "code",
   "execution_count": 18,
   "id": "475edbad",
   "metadata": {},
   "outputs": [
    {
     "data": {
      "text/html": [
       "\n",
       "            <div>\n",
       "                <p><b>SparkSession - in-memory</b></p>\n",
       "                \n",
       "        <div>\n",
       "            <p><b>SparkContext</b></p>\n",
       "\n",
       "            <p><a href=\"http://192.168.0.24:4040\">Spark UI</a></p>\n",
       "\n",
       "            <dl>\n",
       "              <dt>Version</dt>\n",
       "                <dd><code>v3.2.0</code></dd>\n",
       "              <dt>Master</dt>\n",
       "                <dd><code>local[*]</code></dd>\n",
       "              <dt>AppName</dt>\n",
       "                <dd><code>SparkApp_ETL_ML</code></dd>\n",
       "            </dl>\n",
       "        </div>\n",
       "        \n",
       "            </div>\n",
       "        "
      ],
      "text/plain": [
       "<pyspark.sql.session.SparkSession at 0x7fb7fc0b7c70>"
      ]
     },
     "execution_count": 18,
     "metadata": {},
     "output_type": "execute_result"
    }
   ],
   "source": [
    "spark"
   ]
  },
  {
   "cell_type": "code",
   "execution_count": 23,
   "id": "06092f0f",
   "metadata": {
    "collapsed": true
   },
   "outputs": [
    {
     "name": "stdout",
     "output_type": "stream",
     "text": [
      "Processing /home/mbg/.cache/pip/wheels/bd/a8/c3/3cf2c14a1837a4e04bd98631724e81f33f462d86a1d895fae0/wget-3.2-py3-none-any.whl\n",
      "Installing collected packages: wget\n",
      "Successfully installed wget-3.2\n"
     ]
    }
   ],
   "source": [
    "!pip3 install wget"
   ]
  },
  {
   "cell_type": "code",
   "execution_count": 34,
   "id": "f4bce8e2",
   "metadata": {
    "scrolled": false
   },
   "outputs": [],
   "source": [
    "# import shutil\n",
    "# import site\n",
    "# import wget\n",
    "# url = ('https://github.com/jpmml/jpmml-sparkml/releases/download/1.7.2/'\n",
    "#            'jpmml-sparkml-executable-1.7.2.jar')\n",
    "# wget.download(url)\n",
    "# # shutil.copy('jpmml-sparkml-executable-1.7.2.jar', site.getsitepackages()[0] + '/pyspark/jars/')\n",
    "# shutil.copy('jpmml-sparkml-executable-1.7.2.jar', '~/.local/lib/python3.8/site-packages/pyspark/jars')\n"
   ]
  },
  {
   "cell_type": "code",
   "execution_count": 13,
   "id": "dd382d8e",
   "metadata": {},
   "outputs": [
    {
     "name": "stderr",
     "output_type": "stream",
     "text": [
      "Exception in thread \"Thread-4\" java.lang.ExceptionInInitializerError\n",
      "\tat java.base/java.lang.Class.forName0(Native Method)\n",
      "\tat java.base/java.lang.Class.forName(Class.java:398)\n",
      "\tat py4j.reflection.CurrentThreadClassLoadingStrategy.classForName(CurrentThreadClassLoadingStrategy.java:40)\n",
      "\tat py4j.reflection.ReflectionUtil.classForName(ReflectionUtil.java:51)\n",
      "\tat py4j.reflection.TypeUtil.forName(TypeUtil.java:243)\n",
      "\tat py4j.commands.ReflectionCommand.getUnknownMember(ReflectionCommand.java:175)\n",
      "\tat py4j.commands.ReflectionCommand.execute(ReflectionCommand.java:87)\n",
      "\tat py4j.ClientServerConnection.waitForCommands(ClientServerConnection.java:182)\n",
      "\tat py4j.ClientServerConnection.run(ClientServerConnection.java:106)\n",
      "\tat java.base/java.lang.Thread.run(Thread.java:829)\n",
      "Caused by: java.lang.IllegalArgumentException: Expected Apache Spark ML version 3.1, got version 3.2 (3.2.0)\n",
      "\tat org.jpmml.sparkml.ConverterFactory.checkVersion(ConverterFactory.java:114)\n",
      "\tat org.jpmml.sparkml.PMMLBuilder.init(PMMLBuilder.java:481)\n",
      "\tat org.jpmml.sparkml.PMMLBuilder.<clinit>(PMMLBuilder.java:545)\n",
      "\t... 10 more\n",
      "ERROR:root:Exception while sending command.\n",
      "Traceback (most recent call last):\n",
      "  File \"/home/mbg/.local/lib/python3.8/site-packages/pyspark/python/lib/py4j-0.10.9.2-src.zip/py4j/clientserver.py\", line 480, in send_command\n",
      "    raise Py4JNetworkError(\"Answer from Java side is empty\")\n",
      "py4j.protocol.Py4JNetworkError: Answer from Java side is empty\n",
      "\n",
      "During handling of the above exception, another exception occurred:\n",
      "\n",
      "Traceback (most recent call last):\n",
      "  File \"/home/mbg/.local/lib/python3.8/site-packages/pyspark/python/lib/py4j-0.10.9.2-src.zip/py4j/java_gateway.py\", line 1038, in send_command\n",
      "    response = connection.send_command(command)\n",
      "  File \"/home/mbg/.local/lib/python3.8/site-packages/pyspark/python/lib/py4j-0.10.9.2-src.zip/py4j/clientserver.py\", line 503, in send_command\n",
      "    raise Py4JNetworkError(\n",
      "py4j.protocol.Py4JNetworkError: Error while sending or receiving\n"
     ]
    },
    {
     "ename": "Py4JError",
     "evalue": "org.jpmml.sparkml.PMMLBuilder does not exist in the JVM",
     "output_type": "error",
     "traceback": [
      "\u001b[0;31m---------------------------------------------------------------------------\u001b[0m",
      "\u001b[0;31mPy4JError\u001b[0m                                 Traceback (most recent call last)",
      "\u001b[0;32m/tmp/ipykernel_20251/3496938591.py\u001b[0m in \u001b[0;36m<module>\u001b[0;34m\u001b[0m\n\u001b[0;32m----> 1\u001b[0;31m \u001b[0mpmmlBuilder\u001b[0m \u001b[0;34m=\u001b[0m \u001b[0mPMMLBuilder\u001b[0m\u001b[0;34m(\u001b[0m\u001b[0msc\u001b[0m\u001b[0;34m,\u001b[0m \u001b[0mdf_train\u001b[0m\u001b[0;34m,\u001b[0m \u001b[0mrfModel\u001b[0m\u001b[0;34m)\u001b[0m\u001b[0;34m\u001b[0m\u001b[0;34m\u001b[0m\u001b[0m\n\u001b[0m",
      "\u001b[0;32m~/.local/lib/python3.8/site-packages/pyspark2pmml/__init__.py\u001b[0m in \u001b[0;36m__init__\u001b[0;34m(self, sc, df, pipelineModel)\u001b[0m\n\u001b[1;32m     10\u001b[0m                 \u001b[0mjavaSchema\u001b[0m \u001b[0;34m=\u001b[0m \u001b[0mjavaDf\u001b[0m\u001b[0;34m.\u001b[0m\u001b[0mschema\u001b[0m\u001b[0;34m.\u001b[0m\u001b[0m__call__\u001b[0m\u001b[0;34m(\u001b[0m\u001b[0;34m)\u001b[0m\u001b[0;34m\u001b[0m\u001b[0;34m\u001b[0m\u001b[0m\n\u001b[1;32m     11\u001b[0m                 \u001b[0mjavaPipelineModel\u001b[0m \u001b[0;34m=\u001b[0m \u001b[0mpipelineModel\u001b[0m\u001b[0;34m.\u001b[0m\u001b[0m_to_java\u001b[0m\u001b[0;34m(\u001b[0m\u001b[0;34m)\u001b[0m\u001b[0;34m\u001b[0m\u001b[0;34m\u001b[0m\u001b[0m\n\u001b[0;32m---> 12\u001b[0;31m                 \u001b[0mjavaPmmlBuilderClass\u001b[0m \u001b[0;34m=\u001b[0m \u001b[0msc\u001b[0m\u001b[0;34m.\u001b[0m\u001b[0m_jvm\u001b[0m\u001b[0;34m.\u001b[0m\u001b[0morg\u001b[0m\u001b[0;34m.\u001b[0m\u001b[0mjpmml\u001b[0m\u001b[0;34m.\u001b[0m\u001b[0msparkml\u001b[0m\u001b[0;34m.\u001b[0m\u001b[0mPMMLBuilder\u001b[0m\u001b[0;34m\u001b[0m\u001b[0;34m\u001b[0m\u001b[0m\n\u001b[0m\u001b[1;32m     13\u001b[0m                 \u001b[0;32mif\u001b[0m\u001b[0;34m(\u001b[0m\u001b[0;32mnot\u001b[0m \u001b[0misinstance\u001b[0m\u001b[0;34m(\u001b[0m\u001b[0mjavaPmmlBuilderClass\u001b[0m\u001b[0;34m,\u001b[0m \u001b[0mJavaClass\u001b[0m\u001b[0;34m)\u001b[0m\u001b[0;34m)\u001b[0m\u001b[0;34m:\u001b[0m\u001b[0;34m\u001b[0m\u001b[0;34m\u001b[0m\u001b[0m\n\u001b[1;32m     14\u001b[0m                         \u001b[0;32mraise\u001b[0m \u001b[0mRuntimeError\u001b[0m\u001b[0;34m(\u001b[0m\u001b[0;34m\"JPMML-SparkML not found on classpath\"\u001b[0m\u001b[0;34m)\u001b[0m\u001b[0;34m\u001b[0m\u001b[0;34m\u001b[0m\u001b[0m\n",
      "\u001b[0;32m~/.local/lib/python3.8/site-packages/pyspark/python/lib/py4j-0.10.9.2-src.zip/py4j/java_gateway.py\u001b[0m in \u001b[0;36m__getattr__\u001b[0;34m(self, name)\u001b[0m\n\u001b[1;32m   1647\u001b[0m                 answer[proto.CLASS_FQN_START:], self._gateway_client)\n\u001b[1;32m   1648\u001b[0m         \u001b[0;32melse\u001b[0m\u001b[0;34m:\u001b[0m\u001b[0;34m\u001b[0m\u001b[0;34m\u001b[0m\u001b[0m\n\u001b[0;32m-> 1649\u001b[0;31m             \u001b[0;32mraise\u001b[0m \u001b[0mPy4JError\u001b[0m\u001b[0;34m(\u001b[0m\u001b[0;34m\"{0} does not exist in the JVM\"\u001b[0m\u001b[0;34m.\u001b[0m\u001b[0mformat\u001b[0m\u001b[0;34m(\u001b[0m\u001b[0mnew_fqn\u001b[0m\u001b[0;34m)\u001b[0m\u001b[0;34m)\u001b[0m\u001b[0;34m\u001b[0m\u001b[0;34m\u001b[0m\u001b[0m\n\u001b[0m\u001b[1;32m   1650\u001b[0m \u001b[0;34m\u001b[0m\u001b[0m\n\u001b[1;32m   1651\u001b[0m \u001b[0;34m\u001b[0m\u001b[0m\n",
      "\u001b[0;31mPy4JError\u001b[0m: org.jpmml.sparkml.PMMLBuilder does not exist in the JVM"
     ]
    }
   ],
   "source": [
    "pmmlBuilder = PMMLBuilder(sc, df_train, rfModel)"
   ]
  },
  {
   "cell_type": "code",
   "execution_count": null,
   "id": "0c3c7602",
   "metadata": {},
   "outputs": [],
   "source": [
    "pmmlBuilder.buildFile(model_target)"
   ]
  }
 ],
 "metadata": {
  "kernelspec": {
   "display_name": "Python 3 (ipykernel)",
   "language": "python",
   "name": "python3"
  },
  "language_info": {
   "codemirror_mode": {
    "name": "ipython",
    "version": 3
   },
   "file_extension": ".py",
   "mimetype": "text/x-python",
   "name": "python",
   "nbconvert_exporter": "python",
   "pygments_lexer": "ipython3",
   "version": "3.8.10"
  }
 },
 "nbformat": 4,
 "nbformat_minor": 5
}
